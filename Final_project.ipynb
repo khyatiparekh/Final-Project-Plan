{
 "cells": [
  {
   "cell_type": "markdown",
   "metadata": {},
   "source": [
    "# Data512 A  - Final Project"
   ]
  },
  {
   "cell_type": "markdown",
   "metadata": {},
   "source": [
    "## Analysis of Restaurant Inspection Scores in Austin and New York"
   ]
  },
  {
   "cell_type": "markdown",
   "metadata": {},
   "source": [
    "### Introduction"
   ]
  },
  {
   "cell_type": "markdown",
   "metadata": {},
   "source": [
    "The Austin/Travis County Health and Human Services Department conducts the permitting and inspection of more than 4,000 food establishments in Austin, several local municipalities and rural Travis County. Food establishments should be inspected twice a year. If unable to be inspected at this frequency, then inspections are prioritized by risk. The establishments include a wide variety of food industries, such as restaurants, delicatessens, school cafeterias, grocery stores, retail meat markets, bakeries and bars. If no violations are found, a score of 100 is achieved. If more than 30 points are lost, a re-inspection is required and corrections must be made to bring the score above 70, in accordance with the Texas Food Establishment Rules. If subsequent inspections score below 70, compliance actions are taken."
   ]
  },
  {
   "cell_type": "markdown",
   "metadata": {},
   "source": [
    "Nowadays, people eat out more often than they used to. Restaurants that serve the same cuisine strive to make their food the best so as to attract more customers. Sometimes, in an effort to make the food look and taste good, the cleanliness is often neglected. This lack of proper kitchen hygiene often leads to low inspection scores in the case of a surprise inspection. Low scores mean that the restaurant loses most of its customer base and has to devote additional resources to get back to their original popularity. This wastes a lot of time and money for the people involved. My plan is to provide people in Austin and New York a good list of places to eat that scored above 80 in the inspection.\n",
    "\n"
   ]
  },
  {
   "cell_type": "code",
   "execution_count": 1,
   "metadata": {},
   "outputs": [
    {
     "name": "stderr",
     "output_type": "stream",
     "text": [
      "/Users/jayeshparekh/Downloads/anaconda3/lib/python3.6/site-packages/statsmodels/compat/pandas.py:56: FutureWarning: The pandas.core.datetools module is deprecated and will be removed in a future version. Please use the pandas.tseries module instead.\n",
      "  from pandas.core import datetools\n"
     ]
    }
   ],
   "source": [
    "import pandas as pd\n",
    "import statsmodels.api as sm\n",
    "from pandas import crosstab\n",
    "import seaborn as sb\n",
    "import matplotlib.pyplot as plt"
   ]
  },
  {
   "cell_type": "code",
   "execution_count": 2,
   "metadata": {
    "collapsed": true
   },
   "outputs": [],
   "source": [
    "from sklearn.linear_model import LassoCV\n",
    "from sklearn.linear_model import LogisticRegression\n",
    "import numpy as np\n",
    "from sklearn.model_selection import train_test_split\n",
    "from sklearn.feature_extraction import DictVectorizer\n",
    "from sklearn.feature_extraction.text import CountVectorizer\n",
    "from sklearn.feature_extraction.text import TfidfTransformer"
   ]
  },
  {
   "cell_type": "markdown",
   "metadata": {},
   "source": [
    "To ensure that the New York inspection scores file can be imported to github, I split it into 3 text files and then converted them to csv for ease of use in python. The data file is 145mb and github accepts a maximum of 60 mb data into their repositories. "
   ]
  },
  {
   "cell_type": "markdown",
   "metadata": {},
   "source": [
    "### Importing all files "
   ]
  },
  {
   "cell_type": "code",
   "execution_count": 2,
   "metadata": {
    "collapsed": true
   },
   "outputs": [],
   "source": [
    "data1 = pd.read_csv('xaa.txt', sep=\",\")\n",
    "data2 = pd.read_csv('xab.txt', sep=\",\")\n",
    "data3 = pd.read_csv('xac.txt', sep=\",\")"
   ]
  },
  {
   "cell_type": "markdown",
   "metadata": {},
   "source": [
    "I split the files in shell script and uploaded them on github and import them as csv files after converting the split files into text files. "
   ]
  },
  {
   "cell_type": "code",
   "execution_count": 20,
   "metadata": {
    "collapsed": true
   },
   "outputs": [],
   "source": [
    "data = [data1,data2,data3]\n",
    "data = pd.concat(data)"
   ]
  },
  {
   "cell_type": "code",
   "execution_count": 317,
   "metadata": {
    "collapsed": true
   },
   "outputs": [],
   "source": [
    "data_austin = pd.read_csv('Restaurant_Inspection_Scores.csv')"
   ]
  },
  {
   "cell_type": "markdown",
   "metadata": {},
   "source": [
    "## Austin Inspection data"
   ]
  },
  {
   "cell_type": "markdown",
   "metadata": {},
   "source": [
    "### Data exploration"
   ]
  },
  {
   "cell_type": "markdown",
   "metadata": {},
   "source": [
    "Before starting my analysis, since this is a small file, I wanted to see what columns it has and how useful they would be in my analysis. "
   ]
  },
  {
   "cell_type": "code",
   "execution_count": 318,
   "metadata": {},
   "outputs": [
    {
     "data": {
      "text/html": [
       "<div>\n",
       "<style>\n",
       "    .dataframe thead tr:only-child th {\n",
       "        text-align: right;\n",
       "    }\n",
       "\n",
       "    .dataframe thead th {\n",
       "        text-align: left;\n",
       "    }\n",
       "\n",
       "    .dataframe tbody tr th {\n",
       "        vertical-align: top;\n",
       "    }\n",
       "</style>\n",
       "<table border=\"1\" class=\"dataframe\">\n",
       "  <thead>\n",
       "    <tr style=\"text-align: right;\">\n",
       "      <th></th>\n",
       "      <th>Restaurant Name</th>\n",
       "      <th>Zip Code</th>\n",
       "      <th>Inspection Date</th>\n",
       "      <th>Score</th>\n",
       "      <th>Address</th>\n",
       "      <th>Facility ID</th>\n",
       "      <th>Process Description</th>\n",
       "    </tr>\n",
       "  </thead>\n",
       "  <tbody>\n",
       "    <tr>\n",
       "      <th>0</th>\n",
       "      <td>Tortilleria Rio Grande</td>\n",
       "      <td>78753</td>\n",
       "      <td>08/19/2015</td>\n",
       "      <td>81</td>\n",
       "      <td>900 E BRAKER LN Unit 160\\nAUSTIN, TX 78753\\n(3...</td>\n",
       "      <td>10239712</td>\n",
       "      <td>Routine Inspection</td>\n",
       "    </tr>\n",
       "    <tr>\n",
       "      <th>1</th>\n",
       "      <td>Two Steps Ahead Learning Center</td>\n",
       "      <td>78723</td>\n",
       "      <td>04/02/2015</td>\n",
       "      <td>100</td>\n",
       "      <td>3028 ROGGE LN\\nAUSTIN, TX 78723\\n(30.303188, -...</td>\n",
       "      <td>10871599</td>\n",
       "      <td>Routine Inspection</td>\n",
       "    </tr>\n",
       "    <tr>\n",
       "      <th>2</th>\n",
       "      <td>WL - Eanes Elementary</td>\n",
       "      <td>78746</td>\n",
       "      <td>02/09/2015</td>\n",
       "      <td>100</td>\n",
       "      <td>4101 BEE CAVES RD\\nWEST LAKE HILLS, TX 78746\\n...</td>\n",
       "      <td>10002740</td>\n",
       "      <td>Routine Inspection</td>\n",
       "    </tr>\n",
       "    <tr>\n",
       "      <th>3</th>\n",
       "      <td>Vinaigrette TX LLC</td>\n",
       "      <td>78704</td>\n",
       "      <td>03/29/2017</td>\n",
       "      <td>83</td>\n",
       "      <td>2201 COLLEGE AVE\\nAUSTIN, TX 78704\\n(30.241425...</td>\n",
       "      <td>11463881</td>\n",
       "      <td>Routine Inspection</td>\n",
       "    </tr>\n",
       "    <tr>\n",
       "      <th>4</th>\n",
       "      <td>Torchy's Tacos</td>\n",
       "      <td>78731</td>\n",
       "      <td>12/10/2015</td>\n",
       "      <td>100</td>\n",
       "      <td>4211 SPICEWOOD SPRINGS RD\\nAUSTIN, TX 78731\\n(...</td>\n",
       "      <td>10382525</td>\n",
       "      <td>Routine Inspection</td>\n",
       "    </tr>\n",
       "  </tbody>\n",
       "</table>\n",
       "</div>"
      ],
      "text/plain": [
       "                   Restaurant Name Zip Code Inspection Date  Score  \\\n",
       "0           Tortilleria Rio Grande    78753      08/19/2015     81   \n",
       "1  Two Steps Ahead Learning Center    78723      04/02/2015    100   \n",
       "2            WL - Eanes Elementary    78746      02/09/2015    100   \n",
       "3               Vinaigrette TX LLC    78704      03/29/2017     83   \n",
       "4                   Torchy's Tacos    78731      12/10/2015    100   \n",
       "\n",
       "                                             Address  Facility ID  \\\n",
       "0  900 E BRAKER LN Unit 160\\nAUSTIN, TX 78753\\n(3...     10239712   \n",
       "1  3028 ROGGE LN\\nAUSTIN, TX 78723\\n(30.303188, -...     10871599   \n",
       "2  4101 BEE CAVES RD\\nWEST LAKE HILLS, TX 78746\\n...     10002740   \n",
       "3  2201 COLLEGE AVE\\nAUSTIN, TX 78704\\n(30.241425...     11463881   \n",
       "4  4211 SPICEWOOD SPRINGS RD\\nAUSTIN, TX 78731\\n(...     10382525   \n",
       "\n",
       "  Process Description  \n",
       "0  Routine Inspection  \n",
       "1  Routine Inspection  \n",
       "2  Routine Inspection  \n",
       "3  Routine Inspection  \n",
       "4  Routine Inspection  "
      ]
     },
     "execution_count": 318,
     "metadata": {},
     "output_type": "execute_result"
    }
   ],
   "source": [
    "data_austin.head(5)"
   ]
  },
  {
   "cell_type": "markdown",
   "metadata": {},
   "source": [
    "As is evident from the first 5 rows, its not only restaurants that have been inspected. There are scores for schools and every other place which has a food center. Since there is no way to separate the restaurants from the other food places, I will work on the whole dataset."
   ]
  },
  {
   "cell_type": "code",
   "execution_count": 319,
   "metadata": {
    "collapsed": true
   },
   "outputs": [],
   "source": [
    "data_austin = data_austin.dropna()"
   ]
  },
  {
   "cell_type": "code",
   "execution_count": 320,
   "metadata": {},
   "outputs": [
    {
     "data": {
      "text/plain": [
       "array([[<matplotlib.axes._subplots.AxesSubplot object at 0x1a109a67b8>,\n",
       "        <matplotlib.axes._subplots.AxesSubplot object at 0x1a109c4ef0>]], dtype=object)"
      ]
     },
     "execution_count": 320,
     "metadata": {},
     "output_type": "execute_result"
    },
    {
     "data": {
      "image/png": "[encoded data removed]",
      "text/plain": [
       "<matplotlib.figure.Figure at 0x1a108b99e8>"
      ]
     },
     "metadata": {},
     "output_type": "display_data"
    }
   ],
   "source": [
    "data_austin.hist()"
   ]
  },
  {
   "cell_type": "code",
   "execution_count": 321,
   "metadata": {
    "scrolled": true
   },
   "outputs": [
    {
     "data": {
      "text/html": [
       "<div>\n",
       "<style>\n",
       "    .dataframe thead tr:only-child th {\n",
       "        text-align: right;\n",
       "    }\n",
       "\n",
       "    .dataframe thead th {\n",
       "        text-align: left;\n",
       "    }\n",
       "\n",
       "    .dataframe tbody tr th {\n",
       "        vertical-align: top;\n",
       "    }\n",
       "</style>\n",
       "<table border=\"1\" class=\"dataframe\">\n",
       "  <thead>\n",
       "    <tr style=\"text-align: right;\">\n",
       "      <th></th>\n",
       "      <th>Restaurant Name</th>\n",
       "      <th>Zip Code</th>\n",
       "      <th>Inspection Date</th>\n",
       "      <th>Score</th>\n",
       "      <th>Address</th>\n",
       "      <th>Facility ID</th>\n",
       "      <th>Process Description</th>\n",
       "    </tr>\n",
       "  </thead>\n",
       "  <tbody>\n",
       "    <tr>\n",
       "      <th>2873</th>\n",
       "      <td>Crawfish Shack and Oyster Bar</td>\n",
       "      <td>78728</td>\n",
       "      <td>11/05/2015</td>\n",
       "      <td>78</td>\n",
       "      <td>2013 W WELLS BRANCH PKWY\\nAUSTIN, TX 78728\\n</td>\n",
       "      <td>10037846</td>\n",
       "      <td>2nd Follow Up to 50 - 69</td>\n",
       "    </tr>\n",
       "    <tr>\n",
       "      <th>4701</th>\n",
       "      <td>888 Vietnamese</td>\n",
       "      <td>78741</td>\n",
       "      <td>08/24/2015</td>\n",
       "      <td>84</td>\n",
       "      <td>2400 E OLTORF ST Unit 1-A\\nAUSTIN, TX 78741\\n(...</td>\n",
       "      <td>2802966</td>\n",
       "      <td>2nd Follow Up to 50 - 69</td>\n",
       "    </tr>\n",
       "    <tr>\n",
       "      <th>11154</th>\n",
       "      <td>Curras Grill</td>\n",
       "      <td>78704</td>\n",
       "      <td>08/03/2016</td>\n",
       "      <td>89</td>\n",
       "      <td>614 E OLTORF ST\\nAUSTIN, TX 78704\\n(30.236826,...</td>\n",
       "      <td>2800774</td>\n",
       "      <td>2nd Follow Up to 50 - 69</td>\n",
       "    </tr>\n",
       "    <tr>\n",
       "      <th>14784</th>\n",
       "      <td>Hunan Lion Restaurant</td>\n",
       "      <td>78704</td>\n",
       "      <td>02/04/2015</td>\n",
       "      <td>89</td>\n",
       "      <td>4006 S LAMAR BLVD SB Unit 1000\\nAUSTIN, TX 787...</td>\n",
       "      <td>10988489</td>\n",
       "      <td>2nd Follow Up to 50 - 69</td>\n",
       "    </tr>\n",
       "    <tr>\n",
       "      <th>15121</th>\n",
       "      <td>Ken's Donuts</td>\n",
       "      <td>78705</td>\n",
       "      <td>12/22/2015</td>\n",
       "      <td>83</td>\n",
       "      <td>2820 GUADALUPE ST\\nAUSTIN, TX 78705\\n(30.29504...</td>\n",
       "      <td>2800639</td>\n",
       "      <td>2nd Follow Up to 50 - 69</td>\n",
       "    </tr>\n",
       "    <tr>\n",
       "      <th>17477</th>\n",
       "      <td>Mongolian Hot Pot</td>\n",
       "      <td>78705</td>\n",
       "      <td>08/10/2017</td>\n",
       "      <td>74</td>\n",
       "      <td>2400 SETON AVE\\nAUSTIN, TX 78705\\n(30.288035, ...</td>\n",
       "      <td>11490862</td>\n",
       "      <td>2nd Follow Up to 50 - 69</td>\n",
       "    </tr>\n",
       "  </tbody>\n",
       "</table>\n",
       "</div>"
      ],
      "text/plain": [
       "                     Restaurant Name Zip Code Inspection Date  Score  \\\n",
       "2873   Crawfish Shack and Oyster Bar    78728      11/05/2015     78   \n",
       "4701                  888 Vietnamese    78741      08/24/2015     84   \n",
       "11154                   Curras Grill    78704      08/03/2016     89   \n",
       "14784          Hunan Lion Restaurant    78704      02/04/2015     89   \n",
       "15121                   Ken's Donuts    78705      12/22/2015     83   \n",
       "17477              Mongolian Hot Pot    78705      08/10/2017     74   \n",
       "\n",
       "                                                 Address  Facility ID  \\\n",
       "2873        2013 W WELLS BRANCH PKWY\\nAUSTIN, TX 78728\\n     10037846   \n",
       "4701   2400 E OLTORF ST Unit 1-A\\nAUSTIN, TX 78741\\n(...      2802966   \n",
       "11154  614 E OLTORF ST\\nAUSTIN, TX 78704\\n(30.236826,...      2800774   \n",
       "14784  4006 S LAMAR BLVD SB Unit 1000\\nAUSTIN, TX 787...     10988489   \n",
       "15121  2820 GUADALUPE ST\\nAUSTIN, TX 78705\\n(30.29504...      2800639   \n",
       "17477  2400 SETON AVE\\nAUSTIN, TX 78705\\n(30.288035, ...     11490862   \n",
       "\n",
       "            Process Description  \n",
       "2873   2nd Follow Up to 50 - 69  \n",
       "4701   2nd Follow Up to 50 - 69  \n",
       "11154  2nd Follow Up to 50 - 69  \n",
       "14784  2nd Follow Up to 50 - 69  \n",
       "15121  2nd Follow Up to 50 - 69  \n",
       "17477  2nd Follow Up to 50 - 69  "
      ]
     },
     "execution_count": 321,
     "metadata": {},
     "output_type": "execute_result"
    }
   ],
   "source": [
    "data_austin[data_austin['Process Description'] == '2nd Follow Up to 50 - 69']"
   ]
  },
  {
   "cell_type": "code",
   "execution_count": 322,
   "metadata": {},
   "outputs": [
    {
     "data": {
      "text/html": [
       "<div>\n",
       "<style>\n",
       "    .dataframe thead tr:only-child th {\n",
       "        text-align: right;\n",
       "    }\n",
       "\n",
       "    .dataframe thead th {\n",
       "        text-align: left;\n",
       "    }\n",
       "\n",
       "    .dataframe tbody tr th {\n",
       "        vertical-align: top;\n",
       "    }\n",
       "</style>\n",
       "<table border=\"1\" class=\"dataframe\">\n",
       "  <thead>\n",
       "    <tr style=\"text-align: right;\">\n",
       "      <th></th>\n",
       "      <th>Restaurant Name</th>\n",
       "      <th>Zip Code</th>\n",
       "      <th>Inspection Date</th>\n",
       "      <th>Score</th>\n",
       "      <th>Address</th>\n",
       "      <th>Facility ID</th>\n",
       "      <th>Process Description</th>\n",
       "    </tr>\n",
       "  </thead>\n",
       "  <tbody>\n",
       "    <tr>\n",
       "      <th>2863</th>\n",
       "      <td>Crawfish Shack and Oyster Bar</td>\n",
       "      <td>78728</td>\n",
       "      <td>01/04/2016</td>\n",
       "      <td>80</td>\n",
       "      <td>2013 W WELLS BRANCH PKWY\\nAUSTIN, TX 78728\\n</td>\n",
       "      <td>10037846</td>\n",
       "      <td>Routine Inspection</td>\n",
       "    </tr>\n",
       "    <tr>\n",
       "      <th>2864</th>\n",
       "      <td>Crawfish Shack and Oyster Bar</td>\n",
       "      <td>78728</td>\n",
       "      <td>01/09/2017</td>\n",
       "      <td>84</td>\n",
       "      <td>2013 W WELLS BRANCH PKWY\\nAUSTIN, TX 78728\\n</td>\n",
       "      <td>10037846</td>\n",
       "      <td>Routine Inspection</td>\n",
       "    </tr>\n",
       "    <tr>\n",
       "      <th>2865</th>\n",
       "      <td>Crawfish Shack and Oyster Bar</td>\n",
       "      <td>78728</td>\n",
       "      <td>03/26/2015</td>\n",
       "      <td>83</td>\n",
       "      <td>2013 W WELLS BRANCH PKWY\\nAUSTIN, TX 78728\\n</td>\n",
       "      <td>10037846</td>\n",
       "      <td>Routine Inspection</td>\n",
       "    </tr>\n",
       "    <tr>\n",
       "      <th>2866</th>\n",
       "      <td>Crawfish Shack and Oyster Bar</td>\n",
       "      <td>78728</td>\n",
       "      <td>04/13/2017</td>\n",
       "      <td>75</td>\n",
       "      <td>2013 W WELLS BRANCH PKWY\\nAUSTIN, TX 78728\\n</td>\n",
       "      <td>10037846</td>\n",
       "      <td>Routine Inspection</td>\n",
       "    </tr>\n",
       "    <tr>\n",
       "      <th>2867</th>\n",
       "      <td>Crawfish Shack and Oyster Bar</td>\n",
       "      <td>78728</td>\n",
       "      <td>06/16/2016</td>\n",
       "      <td>45</td>\n",
       "      <td>2013 W WELLS BRANCH PKWY\\nAUSTIN, TX 78728\\n</td>\n",
       "      <td>10037846</td>\n",
       "      <td>Routine Inspection</td>\n",
       "    </tr>\n",
       "    <tr>\n",
       "      <th>2868</th>\n",
       "      <td>Crawfish Shack and Oyster Bar</td>\n",
       "      <td>78728</td>\n",
       "      <td>07/20/2017</td>\n",
       "      <td>85</td>\n",
       "      <td>2013 W WELLS BRANCH PKWY\\nAUSTIN, TX 78728\\n</td>\n",
       "      <td>10037846</td>\n",
       "      <td>Routine Inspection</td>\n",
       "    </tr>\n",
       "    <tr>\n",
       "      <th>2869</th>\n",
       "      <td>Crawfish Shack and Oyster Bar</td>\n",
       "      <td>78728</td>\n",
       "      <td>07/22/2016</td>\n",
       "      <td>74</td>\n",
       "      <td>2013 W WELLS BRANCH PKWY\\nAUSTIN, TX 78728\\n</td>\n",
       "      <td>10037846</td>\n",
       "      <td>Routine Inspection</td>\n",
       "    </tr>\n",
       "    <tr>\n",
       "      <th>2870</th>\n",
       "      <td>Crawfish Shack and Oyster Bar</td>\n",
       "      <td>78728</td>\n",
       "      <td>10/03/2016</td>\n",
       "      <td>71</td>\n",
       "      <td>2013 W WELLS BRANCH PKWY\\nAUSTIN, TX 78728\\n</td>\n",
       "      <td>10037846</td>\n",
       "      <td>Routine Inspection</td>\n",
       "    </tr>\n",
       "    <tr>\n",
       "      <th>2871</th>\n",
       "      <td>Crawfish Shack and Oyster Bar</td>\n",
       "      <td>78728</td>\n",
       "      <td>10/08/2015</td>\n",
       "      <td>61</td>\n",
       "      <td>2013 W WELLS BRANCH PKWY\\nAUSTIN, TX 78728\\n</td>\n",
       "      <td>10037846</td>\n",
       "      <td>Routine Inspection</td>\n",
       "    </tr>\n",
       "    <tr>\n",
       "      <th>2872</th>\n",
       "      <td>Crawfish Shack and Oyster Bar</td>\n",
       "      <td>78728</td>\n",
       "      <td>10/26/2015</td>\n",
       "      <td>64</td>\n",
       "      <td>2013 W WELLS BRANCH PKWY\\nAUSTIN, TX 78728\\n</td>\n",
       "      <td>10037846</td>\n",
       "      <td>1st Follow Up to Routine of 50 - 69</td>\n",
       "    </tr>\n",
       "    <tr>\n",
       "      <th>2873</th>\n",
       "      <td>Crawfish Shack and Oyster Bar</td>\n",
       "      <td>78728</td>\n",
       "      <td>11/05/2015</td>\n",
       "      <td>78</td>\n",
       "      <td>2013 W WELLS BRANCH PKWY\\nAUSTIN, TX 78728\\n</td>\n",
       "      <td>10037846</td>\n",
       "      <td>2nd Follow Up to 50 - 69</td>\n",
       "    </tr>\n",
       "    <tr>\n",
       "      <th>2874</th>\n",
       "      <td>Crawfish Shack and Oyster Bar</td>\n",
       "      <td>78728</td>\n",
       "      <td>12/05/2014</td>\n",
       "      <td>85</td>\n",
       "      <td>2013 W WELLS BRANCH PKWY\\nAUSTIN, TX 78728\\n</td>\n",
       "      <td>10037846</td>\n",
       "      <td>Routine Inspection</td>\n",
       "    </tr>\n",
       "  </tbody>\n",
       "</table>\n",
       "</div>"
      ],
      "text/plain": [
       "                    Restaurant Name Zip Code Inspection Date  Score  \\\n",
       "2863  Crawfish Shack and Oyster Bar    78728      01/04/2016     80   \n",
       "2864  Crawfish Shack and Oyster Bar    78728      01/09/2017     84   \n",
       "2865  Crawfish Shack and Oyster Bar    78728      03/26/2015     83   \n",
       "2866  Crawfish Shack and Oyster Bar    78728      04/13/2017     75   \n",
       "2867  Crawfish Shack and Oyster Bar    78728      06/16/2016     45   \n",
       "2868  Crawfish Shack and Oyster Bar    78728      07/20/2017     85   \n",
       "2869  Crawfish Shack and Oyster Bar    78728      07/22/2016     74   \n",
       "2870  Crawfish Shack and Oyster Bar    78728      10/03/2016     71   \n",
       "2871  Crawfish Shack and Oyster Bar    78728      10/08/2015     61   \n",
       "2872  Crawfish Shack and Oyster Bar    78728      10/26/2015     64   \n",
       "2873  Crawfish Shack and Oyster Bar    78728      11/05/2015     78   \n",
       "2874  Crawfish Shack and Oyster Bar    78728      12/05/2014     85   \n",
       "\n",
       "                                           Address  Facility ID  \\\n",
       "2863  2013 W WELLS BRANCH PKWY\\nAUSTIN, TX 78728\\n     10037846   \n",
       "2864  2013 W WELLS BRANCH PKWY\\nAUSTIN, TX 78728\\n     10037846   \n",
       "2865  2013 W WELLS BRANCH PKWY\\nAUSTIN, TX 78728\\n     10037846   \n",
       "2866  2013 W WELLS BRANCH PKWY\\nAUSTIN, TX 78728\\n     10037846   \n",
       "2867  2013 W WELLS BRANCH PKWY\\nAUSTIN, TX 78728\\n     10037846   \n",
       "2868  2013 W WELLS BRANCH PKWY\\nAUSTIN, TX 78728\\n     10037846   \n",
       "2869  2013 W WELLS BRANCH PKWY\\nAUSTIN, TX 78728\\n     10037846   \n",
       "2870  2013 W WELLS BRANCH PKWY\\nAUSTIN, TX 78728\\n     10037846   \n",
       "2871  2013 W WELLS BRANCH PKWY\\nAUSTIN, TX 78728\\n     10037846   \n",
       "2872  2013 W WELLS BRANCH PKWY\\nAUSTIN, TX 78728\\n     10037846   \n",
       "2873  2013 W WELLS BRANCH PKWY\\nAUSTIN, TX 78728\\n     10037846   \n",
       "2874  2013 W WELLS BRANCH PKWY\\nAUSTIN, TX 78728\\n     10037846   \n",
       "\n",
       "                      Process Description  \n",
       "2863                   Routine Inspection  \n",
       "2864                   Routine Inspection  \n",
       "2865                   Routine Inspection  \n",
       "2866                   Routine Inspection  \n",
       "2867                   Routine Inspection  \n",
       "2868                   Routine Inspection  \n",
       "2869                   Routine Inspection  \n",
       "2870                   Routine Inspection  \n",
       "2871                   Routine Inspection  \n",
       "2872  1st Follow Up to Routine of 50 - 69  \n",
       "2873             2nd Follow Up to 50 - 69  \n",
       "2874                   Routine Inspection  "
      ]
     },
     "execution_count": 322,
     "metadata": {},
     "output_type": "execute_result"
    }
   ],
   "source": [
    "data_austin[data_austin['Restaurant Name'] == 'Crawfish Shack and Oyster Bar']"
   ]
  },
  {
   "cell_type": "code",
   "execution_count": 323,
   "metadata": {},
   "outputs": [
    {
     "data": {
      "text/plain": [
       "count    25562.000000\n",
       "mean        91.276465\n",
       "std          7.508453\n",
       "min         36.000000\n",
       "25%         87.000000\n",
       "50%         93.000000\n",
       "75%         97.000000\n",
       "max        100.000000\n",
       "Name: Score, dtype: float64"
      ]
     },
     "execution_count": 323,
     "metadata": {},
     "output_type": "execute_result"
    }
   ],
   "source": [
    "data_austin['Score'].describe()"
   ]
  },
  {
   "cell_type": "code",
   "execution_count": 324,
   "metadata": {
    "collapsed": true
   },
   "outputs": [],
   "source": [
    "result = data_austin.sort_values(by = ['Score'],ascending = True)"
   ]
  },
  {
   "cell_type": "markdown",
   "metadata": {},
   "source": [
    "Number of restaurants grouped according to their inspection scores."
   ]
  },
  {
   "cell_type": "code",
   "execution_count": 325,
   "metadata": {},
   "outputs": [
    {
     "data": {
      "text/plain": [
       "Score\n",
       "36        1\n",
       "45        2\n",
       "50        4\n",
       "51        1\n",
       "53        5\n",
       "54        5\n",
       "55        3\n",
       "56        6\n",
       "57        6\n",
       "58        4\n",
       "59       10\n",
       "60       10\n",
       "61       11\n",
       "62       10\n",
       "63       20\n",
       "64       13\n",
       "65       16\n",
       "66       12\n",
       "67        8\n",
       "68       14\n",
       "69        8\n",
       "70      170\n",
       "71      123\n",
       "72      149\n",
       "73      131\n",
       "74      154\n",
       "75      166\n",
       "76      197\n",
       "77      222\n",
       "78      294\n",
       "79      300\n",
       "80      380\n",
       "81      423\n",
       "82      484\n",
       "83      512\n",
       "84      615\n",
       "85      698\n",
       "86      726\n",
       "87      797\n",
       "88      853\n",
       "89     1006\n",
       "90     1286\n",
       "91     1084\n",
       "92     1232\n",
       "93     1544\n",
       "94     1548\n",
       "95     1235\n",
       "96     1464\n",
       "97     2306\n",
       "98      937\n",
       "99      810\n",
       "100    3547\n",
       "Name: Restaurant Name, dtype: int64"
      ]
     },
     "execution_count": 325,
     "metadata": {},
     "output_type": "execute_result"
    }
   ],
   "source": [
    "result.groupby(['Score'])['Restaurant Name'].count()"
   ]
  },
  {
   "cell_type": "markdown",
   "metadata": {},
   "source": [
    "Surprisingly, the highest number of restaurants had a 100 in their scores and only 3 had scores below 50. This tells us that either the scoring done in Austin is way too high or that there are excellent restaurants. I doubt its more of the latter."
   ]
  },
  {
   "cell_type": "code",
   "execution_count": 326,
   "metadata": {
    "collapsed": true
   },
   "outputs": [],
   "source": [
    "best_rest = result[result['Score'] == 100]"
   ]
  },
  {
   "cell_type": "code",
   "execution_count": 327,
   "metadata": {},
   "outputs": [
    {
     "data": {
      "text/plain": [
       "16472           MN - Manor High School Cafeteria\n",
       "24165                         TCBY Frozen Yogurt\n",
       "16361    LW - Hills Country Club-World of Tennis\n",
       "1846                            Walgreens #07673\n",
       "3607                           La Bodega Gourmet\n",
       "13187                         Govalle Elementary\n",
       "24163                          Subway Sandwiches\n",
       "13531                Hawthorne Montessori School\n",
       "13188                     Great Habits Gift Shop\n",
       "1838                WL - Randall's Grocery #2477\n",
       "529                                      U PAK M\n",
       "1847                            Whataburger #321\n",
       "1961                         Westgate Lane (Bar)\n",
       "3540                  LW - Randall's #1779 -Deli\n",
       "429                                 Tokyo Garden\n",
       "25457                    Target (Produce) T-1797\n",
       "3619                                La Madeleine\n",
       "4670                             Zaytouna Lounge\n",
       "8755                  Chipotle Mexican Grill #56\n",
       "3603                                 LW- HEB 714\n",
       "25551                   The Children's Courtyard\n",
       "23530                          Star of Texas Inn\n",
       "4745                          Alpha Phi Sorority\n",
       "13095                     HEB #27- Anderson Mill\n",
       "7320            BC - Primrose School of Bee Cave\n",
       "16953                    Lone Star Family Market\n",
       "13485       Harmony Science Academy-Pflugerville\n",
       "5823                   BC - Falconhead Golf Club\n",
       "5940                        Austin Hookah Lounge\n",
       "5814                         BC - Candy Jar, The\n",
       "                          ...                   \n",
       "6638                       Balcones Youth Sports\n",
       "18326                             Music Lab, Inc\n",
       "22510                                       Sezi\n",
       "22526             South Austin Center (Sr Lunch)\n",
       "1516                            Whataburger #347\n",
       "18278                   Open Door Preschool-East\n",
       "3427                         LW - Firehouse Subs\n",
       "22536                            Sims Elementary\n",
       "22445                             Sonic Drive In\n",
       "4312                     Starbucks Coffee #14500\n",
       "18345                          Ortega Elementary\n",
       "12190                         Galaxy Highland 10\n",
       "18372                             Music Lab Inc.\n",
       "22470                         Scottish Rite Dorm\n",
       "22479        Scores Men's Club (aka Hot Bodies) \n",
       "2816                     Circle K Store #2704688\n",
       "18266                      Oak Spring Elementary\n",
       "18198                               Martin House\n",
       "22594                         Soup Peddler Lamar\n",
       "18165                         Mexitas Restaurant\n",
       "12336                  Family Dollar Store #5520\n",
       "12338                     Fairfield Inn & Suites\n",
       "7161                                 BC - Subway\n",
       "9313                       Civil Goat Coffee Co.\n",
       "18140                              Marco's Pizza\n",
       "4874                 Abiding Love Lutheran Child\n",
       "18263                            Mecca Gym & Spa\n",
       "18232                        Nature's Table Cafe\n",
       "1530                      WL- Blenders and Bowls\n",
       "23512                           Stinson's Bistro\n",
       "Name: Restaurant Name, Length: 1648, dtype: object"
      ]
     },
     "execution_count": 327,
     "metadata": {},
     "output_type": "execute_result"
    }
   ],
   "source": [
    "best_rest['Restaurant Name'].drop_duplicates()\n"
   ]
  },
  {
   "cell_type": "markdown",
   "metadata": {},
   "source": [
    "Names of places which scored a 100 "
   ]
  },
  {
   "cell_type": "markdown",
   "metadata": {},
   "source": [
    "There are repeated names because multiple inspections had occured at different times."
   ]
  },
  {
   "cell_type": "code",
   "execution_count": 328,
   "metadata": {
    "collapsed": true
   },
   "outputs": [],
   "source": [
    "data_austin.columns= ['Restaurant_name','Zip_code','Inspection_date','Score','Address','Facility_id','Process_description']"
   ]
  },
  {
   "cell_type": "markdown",
   "metadata": {},
   "source": [
    "I want to get a list of bad restaurants that lie in areas where there are good quality restaurants and find out why that is the case."
   ]
  },
  {
   "cell_type": "code",
   "execution_count": 329,
   "metadata": {},
   "outputs": [
    {
     "data": {
      "text/html": [
       "<div>\n",
       "<style>\n",
       "    .dataframe thead tr:only-child th {\n",
       "        text-align: right;\n",
       "    }\n",
       "\n",
       "    .dataframe thead th {\n",
       "        text-align: left;\n",
       "    }\n",
       "\n",
       "    .dataframe tbody tr th {\n",
       "        vertical-align: top;\n",
       "    }\n",
       "</style>\n",
       "<table border=\"1\" class=\"dataframe\">\n",
       "  <thead>\n",
       "    <tr style=\"text-align: right;\">\n",
       "      <th></th>\n",
       "      <th>Restaurant Name</th>\n",
       "      <th>Zip Code</th>\n",
       "      <th>Inspection Date</th>\n",
       "      <th>Score</th>\n",
       "      <th>Address</th>\n",
       "      <th>Facility ID</th>\n",
       "      <th>Process Description</th>\n",
       "    </tr>\n",
       "  </thead>\n",
       "  <tbody>\n",
       "    <tr>\n",
       "      <th>16472</th>\n",
       "      <td>MN - Manor High School Cafeteria</td>\n",
       "      <td>78653</td>\n",
       "      <td>03/28/2017</td>\n",
       "      <td>100</td>\n",
       "      <td>12700 GREGG MANOR RD\\nMANOR, TX 78653\\n(30.353...</td>\n",
       "      <td>2801408</td>\n",
       "      <td>Routine Inspection</td>\n",
       "    </tr>\n",
       "    <tr>\n",
       "      <th>24165</th>\n",
       "      <td>TCBY Frozen Yogurt</td>\n",
       "      <td>78739</td>\n",
       "      <td>03/24/2017</td>\n",
       "      <td>100</td>\n",
       "      <td>5701 W SLAUGHTER LN Bunit 100\\nAUSTIN, TX 7873...</td>\n",
       "      <td>10805254</td>\n",
       "      <td>Routine Inspection</td>\n",
       "    </tr>\n",
       "    <tr>\n",
       "      <th>16361</th>\n",
       "      <td>LW - Hills Country Club-World of Tennis</td>\n",
       "      <td>78738</td>\n",
       "      <td>06/29/2016</td>\n",
       "      <td>100</td>\n",
       "      <td>1 WORLD OF TENNIS SQ\\nLAKEWAY, TX 78738\\n(30.3...</td>\n",
       "      <td>10002985</td>\n",
       "      <td>Routine Inspection</td>\n",
       "    </tr>\n",
       "    <tr>\n",
       "      <th>1846</th>\n",
       "      <td>Walgreens #07673</td>\n",
       "      <td>78717</td>\n",
       "      <td>01/20/2015</td>\n",
       "      <td>100</td>\n",
       "      <td>10600 W PARMER LN\\nAUSTIN, TX 78717\\n(30.49866...</td>\n",
       "      <td>2803968</td>\n",
       "      <td>Routine Inspection</td>\n",
       "    </tr>\n",
       "    <tr>\n",
       "      <th>3607</th>\n",
       "      <td>La Bodega Gourmet</td>\n",
       "      <td>78738</td>\n",
       "      <td>11/03/2015</td>\n",
       "      <td>100</td>\n",
       "      <td>11500 FM 2244 RD\\nBEE CAVE, TX 78738\\n</td>\n",
       "      <td>11313992</td>\n",
       "      <td>Routine Inspection</td>\n",
       "    </tr>\n",
       "  </tbody>\n",
       "</table>\n",
       "</div>"
      ],
      "text/plain": [
       "                               Restaurant Name Zip Code Inspection Date  \\\n",
       "16472         MN - Manor High School Cafeteria    78653      03/28/2017   \n",
       "24165                       TCBY Frozen Yogurt    78739      03/24/2017   \n",
       "16361  LW - Hills Country Club-World of Tennis    78738      06/29/2016   \n",
       "1846                          Walgreens #07673    78717      01/20/2015   \n",
       "3607                         La Bodega Gourmet    78738      11/03/2015   \n",
       "\n",
       "       Score                                            Address  Facility ID  \\\n",
       "16472    100  12700 GREGG MANOR RD\\nMANOR, TX 78653\\n(30.353...      2801408   \n",
       "24165    100  5701 W SLAUGHTER LN Bunit 100\\nAUSTIN, TX 7873...     10805254   \n",
       "16361    100  1 WORLD OF TENNIS SQ\\nLAKEWAY, TX 78738\\n(30.3...     10002985   \n",
       "1846     100  10600 W PARMER LN\\nAUSTIN, TX 78717\\n(30.49866...      2803968   \n",
       "3607     100             11500 FM 2244 RD\\nBEE CAVE, TX 78738\\n     11313992   \n",
       "\n",
       "      Process Description  \n",
       "16472  Routine Inspection  \n",
       "24165  Routine Inspection  \n",
       "16361  Routine Inspection  \n",
       "1846   Routine Inspection  \n",
       "3607   Routine Inspection  "
      ]
     },
     "execution_count": 329,
     "metadata": {},
     "output_type": "execute_result"
    }
   ],
   "source": [
    "best_rest.head(5)"
   ]
  },
  {
   "cell_type": "code",
   "execution_count": 330,
   "metadata": {
    "collapsed": true
   },
   "outputs": [],
   "source": [
    "rest = [data_austin[data_austin['Zip_code'] == best_rest['Zip Code'].values.tolist()[i]] for i in range(0,len(best_rest['Zip Code']))]"
   ]
  },
  {
   "cell_type": "code",
   "execution_count": 331,
   "metadata": {
    "collapsed": true
   },
   "outputs": [],
   "source": [
    "name = []\n",
    "score=[]\n",
    "for i in range(0,len(rest)):\n",
    "    if(rest[i]['Score'].describe()['min'] < 70):\n",
    "        name.append(rest[i].loc[rest[i]['Score'] == rest[i]['Score'].describe()['min'],'Restaurant_name'])\n",
    "        score.append(rest[i]['Score'].describe()['min'])"
   ]
  },
  {
   "cell_type": "markdown",
   "metadata": {},
   "source": [
    "Names of bad restaurants in good neighborhoods. There are 3000 such restaurants spread across several neighborhoods. Some are mentioned below."
   ]
  },
  {
   "cell_type": "code",
   "execution_count": 332,
   "metadata": {
    "scrolled": true
   },
   "outputs": [
    {
     "data": {
      "text/plain": [
       "[7383    Blake Manor Food Mart\n",
       " Name: Restaurant_name, dtype: object, 16185    La Catedral Del Marisco\n",
       " Name: Restaurant_name, dtype: object, 20824    Poco Loco Supermercado\n",
       " Name: Restaurant_name, dtype: object, 17451    Mikado Ryotei\n",
       " Name: Restaurant_name, dtype: object, 7383    Blake Manor Food Mart\n",
       " Name: Restaurant_name, dtype: object]"
      ]
     },
     "execution_count": 332,
     "metadata": {},
     "output_type": "execute_result"
    }
   ],
   "source": [
    "name[0:5]"
   ]
  },
  {
   "cell_type": "code",
   "execution_count": 333,
   "metadata": {},
   "outputs": [
    {
     "data": {
      "text/html": [
       "<div>\n",
       "<style>\n",
       "    .dataframe thead tr:only-child th {\n",
       "        text-align: right;\n",
       "    }\n",
       "\n",
       "    .dataframe thead th {\n",
       "        text-align: left;\n",
       "    }\n",
       "\n",
       "    .dataframe tbody tr th {\n",
       "        vertical-align: top;\n",
       "    }\n",
       "</style>\n",
       "<table border=\"1\" class=\"dataframe\">\n",
       "  <thead>\n",
       "    <tr style=\"text-align: right;\">\n",
       "      <th></th>\n",
       "      <th>Score</th>\n",
       "      <th>Facility_id</th>\n",
       "    </tr>\n",
       "  </thead>\n",
       "  <tbody>\n",
       "    <tr>\n",
       "      <th>count</th>\n",
       "      <td>25562.000000</td>\n",
       "      <td>2.556200e+04</td>\n",
       "    </tr>\n",
       "    <tr>\n",
       "      <th>mean</th>\n",
       "      <td>91.276465</td>\n",
       "      <td>7.735905e+06</td>\n",
       "    </tr>\n",
       "    <tr>\n",
       "      <th>std</th>\n",
       "      <td>7.508453</td>\n",
       "      <td>3.869482e+06</td>\n",
       "    </tr>\n",
       "    <tr>\n",
       "      <th>min</th>\n",
       "      <td>36.000000</td>\n",
       "      <td>2.800004e+06</td>\n",
       "    </tr>\n",
       "    <tr>\n",
       "      <th>25%</th>\n",
       "      <td>87.000000</td>\n",
       "      <td>2.802304e+06</td>\n",
       "    </tr>\n",
       "    <tr>\n",
       "      <th>50%</th>\n",
       "      <td>93.000000</td>\n",
       "      <td>1.022271e+07</td>\n",
       "    </tr>\n",
       "    <tr>\n",
       "      <th>75%</th>\n",
       "      <td>97.000000</td>\n",
       "      <td>1.092674e+07</td>\n",
       "    </tr>\n",
       "    <tr>\n",
       "      <th>max</th>\n",
       "      <td>100.000000</td>\n",
       "      <td>1.174516e+07</td>\n",
       "    </tr>\n",
       "  </tbody>\n",
       "</table>\n",
       "</div>"
      ],
      "text/plain": [
       "              Score   Facility_id\n",
       "count  25562.000000  2.556200e+04\n",
       "mean      91.276465  7.735905e+06\n",
       "std        7.508453  3.869482e+06\n",
       "min       36.000000  2.800004e+06\n",
       "25%       87.000000  2.802304e+06\n",
       "50%       93.000000  1.022271e+07\n",
       "75%       97.000000  1.092674e+07\n",
       "max      100.000000  1.174516e+07"
      ]
     },
     "execution_count": 333,
     "metadata": {},
     "output_type": "execute_result"
    }
   ],
   "source": [
    "data_austin.describe()"
   ]
  },
  {
   "cell_type": "markdown",
   "metadata": {},
   "source": [
    "According to the statistics given by the describe() function, the average rating given is 91. To filter out the bad restaurants, I have seen all the data which has score less than 91."
   ]
  },
  {
   "cell_type": "code",
   "execution_count": 334,
   "metadata": {
    "collapsed": true
   },
   "outputs": [],
   "source": [
    "bad_rest = data_austin[data_austin['Score'] < 91]"
   ]
  },
  {
   "cell_type": "code",
   "execution_count": 335,
   "metadata": {},
   "outputs": [
    {
     "data": {
      "text/plain": [
       "56"
      ]
     },
     "execution_count": 335,
     "metadata": {},
     "output_type": "execute_result"
    }
   ],
   "source": [
    "len(bad_rest['Zip_code'].drop_duplicates())"
   ]
  },
  {
   "cell_type": "markdown",
   "metadata": {},
   "source": [
    "These are the zipcodes that have restaurants with a bad rating."
   ]
  },
  {
   "cell_type": "code",
   "execution_count": 336,
   "metadata": {},
   "outputs": [
    {
     "data": {
      "text/plain": [
       "0                              78753\n",
       "3                              78704\n",
       "5                              78745\n",
       "9                              78759\n",
       "12                             78758\n",
       "14                             78701\n",
       "19                             78719\n",
       "28                             78757\n",
       "31                             78731\n",
       "34                             78741\n",
       "40                             78746\n",
       "52                             78729\n",
       "60                             78705\n",
       "84                             78723\n",
       "85                             78751\n",
       "128                            78752\n",
       "130                            78652\n",
       "141                            78750\n",
       "142                            78717\n",
       "163                            78660\n",
       "218                            78744\n",
       "226                            78734\n",
       "252                            78613\n",
       "259                            78732\n",
       "344                            78727\n",
       "347                            78749\n",
       "348                            78748\n",
       "363                            78738\n",
       "369                            78617\n",
       "440                            78756\n",
       "462                            78653\n",
       "491                            78702\n",
       "615                            78724\n",
       "879                            78726\n",
       "1034                           78722\n",
       "1109                           78754\n",
       "1118                           78735\n",
       "1196                           78703\n",
       "1301                           78728\n",
       "2115                           78669\n",
       "2256                           78721\n",
       "2665                           78730\n",
       "2876                           78747\n",
       "2932                           78725\n",
       "4091                           78733\n",
       "5443                           78739\n",
       "5856                           78610\n",
       "7511                           78641\n",
       "8391                           78737\n",
       "8736                           78620\n",
       "9418     Hwy 290 E\\nAustin TX  78723\n",
       "9438                           78736\n",
       "11306                          78615\n",
       "12466                          78654\n",
       "16040                          78742\n",
       "22079           6\\nAustin, TX  78741\n",
       "Name: Zip_code, dtype: object"
      ]
     },
     "execution_count": 336,
     "metadata": {},
     "output_type": "execute_result"
    }
   ],
   "source": [
    "bad_rest['Zip_code'].drop_duplicates()"
   ]
  },
  {
   "cell_type": "markdown",
   "metadata": {},
   "source": [
    "## Using Lasso to find coefficients for each column"
   ]
  },
  {
   "cell_type": "code",
   "execution_count": 337,
   "metadata": {
    "collapsed": true
   },
   "outputs": [],
   "source": [
    "import re\n",
    "import numpy\n",
    "from datetime import datetime"
   ]
  },
  {
   "cell_type": "code",
   "execution_count": 338,
   "metadata": {
    "collapsed": true
   },
   "outputs": [],
   "source": [
    "x = []\n",
    "for i in range(0,len(data_austin['Inspection_date'])):\n",
    "    match = re.search(r'\\d{2}/\\d{2}/\\d{4}', data_austin['Inspection_date'][i])\n",
    "    date = datetime.strptime(match.group(), '%m/%d/%Y').date()\n",
    "    x.append(int(date.strftime(\"%s\")))\n"
   ]
  },
  {
   "cell_type": "code",
   "execution_count": 339,
   "metadata": {
    "collapsed": true
   },
   "outputs": [],
   "source": [
    "data_austin['Date'] = x"
   ]
  },
  {
   "cell_type": "code",
   "execution_count": 340,
   "metadata": {
    "collapsed": true
   },
   "outputs": [],
   "source": [
    "unique = data_austin['Process_description'].drop_duplicates()"
   ]
  },
  {
   "cell_type": "code",
   "execution_count": 341,
   "metadata": {},
   "outputs": [
    {
     "data": {
      "text/plain": [
       "0                            Routine Inspection\n",
       "77          1st Follow Up to Routine of 50 - 69\n",
       "2873                   2nd Follow Up to 50 - 69\n",
       "14774    1st Follow Up to Routine of 49 or less\n",
       "Name: Process_description, dtype: object"
      ]
     },
     "execution_count": 341,
     "metadata": {},
     "output_type": "execute_result"
    }
   ],
   "source": [
    "str1 = unique[0]\n",
    "unique"
   ]
  },
  {
   "cell_type": "code",
   "execution_count": 342,
   "metadata": {
    "collapsed": true
   },
   "outputs": [],
   "source": [
    "str2 = unique[77]\n",
    "str3 = unique[2873]\n",
    "str4 = unique[14774]"
   ]
  },
  {
   "cell_type": "code",
   "execution_count": 343,
   "metadata": {
    "collapsed": true
   },
   "outputs": [],
   "source": [
    "y = []\n",
    "for i in range(0,len(data_austin['Process_description'])):\n",
    "    if(data_austin['Process_description'][i] == str1):\n",
    "        y.append(0)\n",
    "    elif(data_austin['Process_description'][i] == str2):\n",
    "        y.append(1)\n",
    "    elif(data_austin['Process_description'][i] == str3):\n",
    "        y.append(2)\n",
    "    else:\n",
    "        y.append(3)"
   ]
  },
  {
   "cell_type": "code",
   "execution_count": 344,
   "metadata": {
    "collapsed": true
   },
   "outputs": [],
   "source": [
    "data_austin['pd'] = y"
   ]
  },
  {
   "cell_type": "code",
   "execution_count": null,
   "metadata": {
    "collapsed": true
   },
   "outputs": [],
   "source": []
  },
  {
   "cell_type": "code",
   "execution_count": 345,
   "metadata": {
    "collapsed": true
   },
   "outputs": [],
   "source": [
    "data=data_austin[['Zip_code','Date','pd','Score','Restaurant_name']]"
   ]
  },
  {
   "cell_type": "code",
   "execution_count": 346,
   "metadata": {
    "collapsed": true
   },
   "outputs": [],
   "source": [
    "score = data['Score']"
   ]
  },
  {
   "cell_type": "code",
   "execution_count": 347,
   "metadata": {
    "collapsed": true
   },
   "outputs": [],
   "source": [
    "del data['Score']"
   ]
  },
  {
   "cell_type": "code",
   "execution_count": 348,
   "metadata": {
    "collapsed": true
   },
   "outputs": [],
   "source": [
    "sc=[]\n",
    "for i in range(0,len(score)):\n",
    "    if(score[i] > 91):\n",
    "        sc.append(1)\n",
    "    else:\n",
    "        sc.append(0)\n",
    "            "
   ]
  },
  {
   "cell_type": "code",
   "execution_count": 349,
   "metadata": {},
   "outputs": [
    {
     "data": {
      "text/plain": [
       "<matplotlib.axes._subplots.AxesSubplot at 0x1a0f35f828>"
      ]
     },
     "execution_count": 349,
     "metadata": {},
     "output_type": "execute_result"
    },
    {
     "data": {
      "image/png": "[encoded data removed]",
      "text/plain": [
       "<matplotlib.figure.Figure at 0x1a0eb004e0>"
      ]
     },
     "metadata": {},
     "output_type": "display_data"
    }
   ],
   "source": [
    "%matplotlib inline\n",
    "sb.heatmap(data_austin.corr())"
   ]
  },
  {
   "cell_type": "code",
   "execution_count": 350,
   "metadata": {
    "collapsed": true
   },
   "outputs": [],
   "source": [
    "model = LassoCV()\n",
    "#model.fit(data[['Zip_code','Date','pd']],score)"
   ]
  },
  {
   "cell_type": "markdown",
   "metadata": {},
   "source": [
    "On running this, I found out that not all the zipcode values were integers. There are some zipcode values that have part of the address as well. No doubt, a mistake made by the data gatherers. To rectify this mistake, I find all the indices where there are strings in place of integers and correct them. Thankfully, it is only a handful."
   ]
  },
  {
   "cell_type": "code",
   "execution_count": 351,
   "metadata": {
    "collapsed": true
   },
   "outputs": [],
   "source": [
    "indices = []\n",
    "for i in range(0,len(data['Zip_code'])):\n",
    "\n",
    "    if(data['Zip_code'][i].isdigit()):\n",
    "        x = int(data['Zip_code'][i])\n",
    "    else:\n",
    "        indices.append(i)"
   ]
  },
  {
   "cell_type": "code",
   "execution_count": 352,
   "metadata": {},
   "outputs": [
    {
     "name": "stderr",
     "output_type": "stream",
     "text": [
      "/Users/jayeshparekh/Downloads/anaconda3/lib/python3.6/site-packages/ipykernel_launcher.py:2: SettingWithCopyWarning: \n",
      "A value is trying to be set on a copy of a slice from a DataFrame\n",
      "\n",
      "See the caveats in the documentation: http://pandas.pydata.org/pandas-docs/stable/indexing.html#indexing-view-versus-copy\n",
      "  \n",
      "/Users/jayeshparekh/Downloads/anaconda3/lib/python3.6/site-packages/IPython/core/interactiveshell.py:2862: SettingWithCopyWarning: \n",
      "A value is trying to be set on a copy of a slice from a DataFrame\n",
      "\n",
      "See the caveats in the documentation: http://pandas.pydata.org/pandas-docs/stable/indexing.html#indexing-view-versus-copy\n",
      "  exec(code_obj, self.user_global_ns, self.user_ns)\n"
     ]
    }
   ],
   "source": [
    "for i in range(0,len(indices)):\n",
    "    data['Zip_code'][indices[i]] = data['Zip_code'][indices[i]][-5:]"
   ]
  },
  {
   "cell_type": "markdown",
   "metadata": {},
   "source": [
    "Now I can convert my string values to integers and run the Lasso. But before I do that, Todd suggested I consider zipcode as a categorical variable and then plot the values against the score to see what kind of graph is generated."
   ]
  },
  {
   "cell_type": "code",
   "execution_count": 355,
   "metadata": {
    "scrolled": false
   },
   "outputs": [
    {
     "data": {
      "image/png": "[encoded data removed]",
      "text/plain": [
       "<matplotlib.figure.Figure at 0x10cbecba8>"
      ]
     },
     "metadata": {},
     "output_type": "display_data"
    }
   ],
   "source": [
    "count_df = data.groupby(['Zip_code'])['Restaurant_name'].count()\n",
    "count_df = count_df.to_frame()\n",
    "count_df = count_df.reset_index()\n",
    "plt.bar(count_df['Zip_code'],count_df['Restaurant_name']);\n",
    "fig_size = plt.rcParams[\"figure.figsize\"]\n",
    "fig_size[0] = 40\n",
    "fig_size[1] = 9\n",
    "plt.xticks(rotation=90)\n",
    "plt.show()"
   ]
  },
  {
   "cell_type": "code",
   "execution_count": 240,
   "metadata": {
    "scrolled": true
   },
   "outputs": [
    {
     "name": "stderr",
     "output_type": "stream",
     "text": [
      "/Users/jayeshparekh/Downloads/anaconda3/lib/python3.6/site-packages/ipykernel_launcher.py:1: SettingWithCopyWarning: \n",
      "A value is trying to be set on a copy of a slice from a DataFrame.\n",
      "Try using .loc[row_indexer,col_indexer] = value instead\n",
      "\n",
      "See the caveats in the documentation: http://pandas.pydata.org/pandas-docs/stable/indexing.html#indexing-view-versus-copy\n",
      "  \"\"\"Entry point for launching an IPython kernel.\n"
     ]
    }
   ],
   "source": [
    "data['Zip_code'] = [int(x) for x in data['Zip_code']]"
   ]
  },
  {
   "cell_type": "code",
   "execution_count": 241,
   "metadata": {
    "collapsed": true
   },
   "outputs": [],
   "source": [
    "count_df = data.groupby(['Zip_code'])['Restaurant_name'].count()\n",
    "count_df = count_df.to_frame()\n",
    "count_df = count_df.reset_index()"
   ]
  },
  {
   "cell_type": "code",
   "execution_count": 242,
   "metadata": {},
   "outputs": [
    {
     "data": {
      "text/plain": [
       "<Container object of 54 artists>"
      ]
     },
     "execution_count": 242,
     "metadata": {},
     "output_type": "execute_result"
    },
    {
     "data": {
      "image/png": "[encoded data removed]",
      "text/plain": [
       "<matplotlib.figure.Figure at 0x1a1345a518>"
      ]
     },
     "metadata": {},
     "output_type": "display_data"
    }
   ],
   "source": [
    "plt.bar(count_df['Zip_code'],count_df['Restaurant_name'])"
   ]
  },
  {
   "cell_type": "code",
   "execution_count": 243,
   "metadata": {
    "collapsed": true
   },
   "outputs": [],
   "source": [
    "model = sm.Logit(sc,data[['Zip_code','Date','pd']])"
   ]
  },
  {
   "cell_type": "code",
   "execution_count": 244,
   "metadata": {},
   "outputs": [
    {
     "name": "stdout",
     "output_type": "stream",
     "text": [
      "Optimization terminated successfully.\n",
      "         Current function value: 0.679752\n",
      "         Iterations 6\n"
     ]
    }
   ],
   "source": [
    "result = model.fit()"
   ]
  },
  {
   "cell_type": "code",
   "execution_count": 245,
   "metadata": {
    "scrolled": true
   },
   "outputs": [
    {
     "data": {
      "text/html": [
       "<table class=\"simpletable\">\n",
       "<caption>Logit Regression Results</caption>\n",
       "<tr>\n",
       "  <th>Dep. Variable:</th>         <td>y</td>        <th>  No. Observations:  </th>  <td> 25562</td>  \n",
       "</tr>\n",
       "<tr>\n",
       "  <th>Model:</th>               <td>Logit</td>      <th>  Df Residuals:      </th>  <td> 25559</td>  \n",
       "</tr>\n",
       "<tr>\n",
       "  <th>Method:</th>               <td>MLE</td>       <th>  Df Model:          </th>  <td>     2</td>  \n",
       "</tr>\n",
       "<tr>\n",
       "  <th>Date:</th>          <td>Sat, 09 Dec 2017</td> <th>  Pseudo R-squ.:     </th> <td>0.004356</td> \n",
       "</tr>\n",
       "<tr>\n",
       "  <th>Time:</th>              <td>19:54:15</td>     <th>  Log-Likelihood:    </th> <td> -17376.</td> \n",
       "</tr>\n",
       "<tr>\n",
       "  <th>converged:</th>           <td>True</td>       <th>  LL-Null:           </th> <td> -17452.</td> \n",
       "</tr>\n",
       "<tr>\n",
       "  <th> </th>                      <td> </td>        <th>  LLR p-value:       </th> <td>9.626e-34</td>\n",
       "</tr>\n",
       "</table>\n",
       "<table class=\"simpletable\">\n",
       "<tr>\n",
       "      <td></td>        <th>coef</th>     <th>std err</th>      <th>z</th>      <th>P>|z|</th>  <th>[0.025</th>    <th>0.975]</th>  \n",
       "</tr>\n",
       "<tr>\n",
       "  <th>Zip_code</th> <td> 5.433e-05</td> <td> 8.63e-06</td> <td>    6.294</td> <td> 0.000</td> <td> 3.74e-05</td> <td> 7.12e-05</td>\n",
       "</tr>\n",
       "<tr>\n",
       "  <th>Date</th>     <td>-2.722e-09</td> <td> 4.65e-10</td> <td>   -5.853</td> <td> 0.000</td> <td>-3.63e-09</td> <td>-1.81e-09</td>\n",
       "</tr>\n",
       "<tr>\n",
       "  <th>pd</th>       <td>   -1.9129</td> <td>    0.213</td> <td>   -8.966</td> <td> 0.000</td> <td>   -2.331</td> <td>   -1.495</td>\n",
       "</tr>\n",
       "</table>"
      ],
      "text/plain": [
       "<class 'statsmodels.iolib.summary.Summary'>\n",
       "\"\"\"\n",
       "                           Logit Regression Results                           \n",
       "==============================================================================\n",
       "Dep. Variable:                      y   No. Observations:                25562\n",
       "Model:                          Logit   Df Residuals:                    25559\n",
       "Method:                           MLE   Df Model:                            2\n",
       "Date:                Sat, 09 Dec 2017   Pseudo R-squ.:                0.004356\n",
       "Time:                        19:54:15   Log-Likelihood:                -17376.\n",
       "converged:                       True   LL-Null:                       -17452.\n",
       "                                        LLR p-value:                 9.626e-34\n",
       "==============================================================================\n",
       "                 coef    std err          z      P>|z|      [0.025      0.975]\n",
       "------------------------------------------------------------------------------\n",
       "Zip_code    5.433e-05   8.63e-06      6.294      0.000    3.74e-05    7.12e-05\n",
       "Date       -2.722e-09   4.65e-10     -5.853      0.000   -3.63e-09   -1.81e-09\n",
       "pd            -1.9129      0.213     -8.966      0.000      -2.331      -1.495\n",
       "==============================================================================\n",
       "\"\"\""
      ]
     },
     "execution_count": 245,
     "metadata": {},
     "output_type": "execute_result"
    }
   ],
   "source": [
    "result.summary()"
   ]
  },
  {
   "cell_type": "markdown",
   "metadata": {},
   "source": [
    "The coefficients of zip_code and date are too small to be able to have any effect on score. The negative coefficient of process description indicates that more the number of inspections, the score would be less the first time around."
   ]
  },
  {
   "cell_type": "code",
   "execution_count": 287,
   "metadata": {
    "collapsed": true
   },
   "outputs": [],
   "source": [
    "df = data_austin[['Restaurant_name','Process_description']]"
   ]
  },
  {
   "cell_type": "code",
   "execution_count": 291,
   "metadata": {
    "collapsed": true
   },
   "outputs": [],
   "source": [
    "df = df[df['Process_description'] == '1st Follow Up to Routine of 50 - 69']\n"
   ]
  },
  {
   "cell_type": "code",
   "execution_count": 293,
   "metadata": {},
   "outputs": [
    {
     "data": {
      "text/html": [
       "<div>\n",
       "<style>\n",
       "    .dataframe thead tr:only-child th {\n",
       "        text-align: right;\n",
       "    }\n",
       "\n",
       "    .dataframe thead th {\n",
       "        text-align: left;\n",
       "    }\n",
       "\n",
       "    .dataframe tbody tr th {\n",
       "        vertical-align: top;\n",
       "    }\n",
       "</style>\n",
       "<table border=\"1\" class=\"dataframe\">\n",
       "  <thead>\n",
       "    <tr style=\"text-align: right;\">\n",
       "      <th></th>\n",
       "      <th>Restaurant_name</th>\n",
       "      <th>Zip_code</th>\n",
       "      <th>Inspection_date</th>\n",
       "      <th>Score</th>\n",
       "      <th>Address</th>\n",
       "      <th>Facility_id</th>\n",
       "      <th>Process_description</th>\n",
       "      <th>Date</th>\n",
       "      <th>pd</th>\n",
       "    </tr>\n",
       "  </thead>\n",
       "  <tbody>\n",
       "    <tr>\n",
       "      <th>12</th>\n",
       "      <td>Viva Meat Market</td>\n",
       "      <td>78758</td>\n",
       "      <td>05/08/2017</td>\n",
       "      <td>81</td>\n",
       "      <td>8610 N LAMAR BLVD Unit 100\\nAUSTIN, TX 78758\\n...</td>\n",
       "      <td>10769105</td>\n",
       "      <td>Routine Inspection</td>\n",
       "      <td>1494226800</td>\n",
       "      <td>0</td>\n",
       "    </tr>\n",
       "    <tr>\n",
       "      <th>77</th>\n",
       "      <td>Viva Meat Market</td>\n",
       "      <td>78758</td>\n",
       "      <td>01/14/2016</td>\n",
       "      <td>87</td>\n",
       "      <td>8610 N LAMAR BLVD Unit 100\\nAUSTIN, TX 78758\\n...</td>\n",
       "      <td>10769105</td>\n",
       "      <td>1st Follow Up to Routine of 50 - 69</td>\n",
       "      <td>1452758400</td>\n",
       "      <td>1</td>\n",
       "    </tr>\n",
       "    <tr>\n",
       "      <th>320</th>\n",
       "      <td>Viva Meat Market</td>\n",
       "      <td>78758</td>\n",
       "      <td>07/18/2016</td>\n",
       "      <td>63</td>\n",
       "      <td>8610 N LAMAR BLVD Unit 100\\nAUSTIN, TX 78758\\n...</td>\n",
       "      <td>10769105</td>\n",
       "      <td>Routine Inspection</td>\n",
       "      <td>1468825200</td>\n",
       "      <td>0</td>\n",
       "    </tr>\n",
       "    <tr>\n",
       "      <th>404</th>\n",
       "      <td>Viva Meat Market</td>\n",
       "      <td>78758</td>\n",
       "      <td>03/12/2015</td>\n",
       "      <td>87</td>\n",
       "      <td>8610 N LAMAR BLVD Unit 100\\nAUSTIN, TX 78758\\n...</td>\n",
       "      <td>10769105</td>\n",
       "      <td>Routine Inspection</td>\n",
       "      <td>1426143600</td>\n",
       "      <td>0</td>\n",
       "    </tr>\n",
       "    <tr>\n",
       "      <th>426</th>\n",
       "      <td>Viva Meat Market</td>\n",
       "      <td>78758</td>\n",
       "      <td>07/08/2015</td>\n",
       "      <td>86</td>\n",
       "      <td>8610 N LAMAR BLVD Unit 100\\nAUSTIN, TX 78758\\n...</td>\n",
       "      <td>10769105</td>\n",
       "      <td>Routine Inspection</td>\n",
       "      <td>1436338800</td>\n",
       "      <td>0</td>\n",
       "    </tr>\n",
       "    <tr>\n",
       "      <th>640</th>\n",
       "      <td>Viva Meat Market</td>\n",
       "      <td>78758</td>\n",
       "      <td>12/29/2015</td>\n",
       "      <td>56</td>\n",
       "      <td>8610 N LAMAR BLVD Unit 100\\nAUSTIN, TX 78758\\n...</td>\n",
       "      <td>10769105</td>\n",
       "      <td>Routine Inspection</td>\n",
       "      <td>1451376000</td>\n",
       "      <td>0</td>\n",
       "    </tr>\n",
       "    <tr>\n",
       "      <th>651</th>\n",
       "      <td>Viva Meat Market</td>\n",
       "      <td>78758</td>\n",
       "      <td>01/22/2015</td>\n",
       "      <td>94</td>\n",
       "      <td>8610 N LAMAR BLVD Unit 100\\nAUSTIN, TX 78758\\n...</td>\n",
       "      <td>10769105</td>\n",
       "      <td>Routine Inspection</td>\n",
       "      <td>1421913600</td>\n",
       "      <td>0</td>\n",
       "    </tr>\n",
       "    <tr>\n",
       "      <th>750</th>\n",
       "      <td>Viva Meat Market</td>\n",
       "      <td>78758</td>\n",
       "      <td>09/21/2016</td>\n",
       "      <td>83</td>\n",
       "      <td>8610 N LAMAR BLVD Unit 100\\nAUSTIN, TX 78758\\n...</td>\n",
       "      <td>10769105</td>\n",
       "      <td>1st Follow Up to Routine of 50 - 69</td>\n",
       "      <td>1474441200</td>\n",
       "      <td>1</td>\n",
       "    </tr>\n",
       "  </tbody>\n",
       "</table>\n",
       "</div>"
      ],
      "text/plain": [
       "      Restaurant_name Zip_code Inspection_date  Score  \\\n",
       "12   Viva Meat Market    78758      05/08/2017     81   \n",
       "77   Viva Meat Market    78758      01/14/2016     87   \n",
       "320  Viva Meat Market    78758      07/18/2016     63   \n",
       "404  Viva Meat Market    78758      03/12/2015     87   \n",
       "426  Viva Meat Market    78758      07/08/2015     86   \n",
       "640  Viva Meat Market    78758      12/29/2015     56   \n",
       "651  Viva Meat Market    78758      01/22/2015     94   \n",
       "750  Viva Meat Market    78758      09/21/2016     83   \n",
       "\n",
       "                                               Address  Facility_id  \\\n",
       "12   8610 N LAMAR BLVD Unit 100\\nAUSTIN, TX 78758\\n...     10769105   \n",
       "77   8610 N LAMAR BLVD Unit 100\\nAUSTIN, TX 78758\\n...     10769105   \n",
       "320  8610 N LAMAR BLVD Unit 100\\nAUSTIN, TX 78758\\n...     10769105   \n",
       "404  8610 N LAMAR BLVD Unit 100\\nAUSTIN, TX 78758\\n...     10769105   \n",
       "426  8610 N LAMAR BLVD Unit 100\\nAUSTIN, TX 78758\\n...     10769105   \n",
       "640  8610 N LAMAR BLVD Unit 100\\nAUSTIN, TX 78758\\n...     10769105   \n",
       "651  8610 N LAMAR BLVD Unit 100\\nAUSTIN, TX 78758\\n...     10769105   \n",
       "750  8610 N LAMAR BLVD Unit 100\\nAUSTIN, TX 78758\\n...     10769105   \n",
       "\n",
       "                     Process_description        Date  pd  \n",
       "12                    Routine Inspection  1494226800   0  \n",
       "77   1st Follow Up to Routine of 50 - 69  1452758400   1  \n",
       "320                   Routine Inspection  1468825200   0  \n",
       "404                   Routine Inspection  1426143600   0  \n",
       "426                   Routine Inspection  1436338800   0  \n",
       "640                   Routine Inspection  1451376000   0  \n",
       "651                   Routine Inspection  1421913600   0  \n",
       "750  1st Follow Up to Routine of 50 - 69  1474441200   1  "
      ]
     },
     "execution_count": 293,
     "metadata": {},
     "output_type": "execute_result"
    }
   ],
   "source": [
    "data_austin[data_austin['Restaurant_name'] == 'Viva Meat Market']"
   ]
  },
  {
   "cell_type": "markdown",
   "metadata": {},
   "source": [
    "We can see that in the 1st follow up inspection, it did well and scored above 71 both times. So we can safely say that restaurants who scored between 50-69 in their first inspection are more than likely to get a second inspection in the foreseeable future."
   ]
  },
  {
   "cell_type": "markdown",
   "metadata": {},
   "source": [
    "Normally, I should have more parameters to compare as 3 parameters is not a good number for Lasso. I had tried using TfidVectorizer to convert string values for use in regression but I wasn't very successful. "
   ]
  },
  {
   "cell_type": "markdown",
   "metadata": {},
   "source": [
    " "
   ]
  },
  {
   "cell_type": "markdown",
   "metadata": {},
   "source": [
    "## New York inspection scores"
   ]
  },
  {
   "cell_type": "markdown",
   "metadata": {},
   "source": [
    "### Data Exploration\n"
   ]
  },
  {
   "cell_type": "code",
   "execution_count": 3,
   "metadata": {
    "collapsed": true
   },
   "outputs": [],
   "source": [
    "data = [data1,data2,data3]\n",
    "data = pd.concat(data)"
   ]
  },
  {
   "cell_type": "code",
   "execution_count": 4,
   "metadata": {},
   "outputs": [
    {
     "data": {
      "text/plain": [
       "(397544, 18)"
      ]
     },
     "execution_count": 4,
     "metadata": {},
     "output_type": "execute_result"
    }
   ],
   "source": [
    "data.shape"
   ]
  },
  {
   "cell_type": "code",
   "execution_count": 5,
   "metadata": {},
   "outputs": [
    {
     "data": {
      "text/html": [
       "<div>\n",
       "<style>\n",
       "    .dataframe thead tr:only-child th {\n",
       "        text-align: right;\n",
       "    }\n",
       "\n",
       "    .dataframe thead th {\n",
       "        text-align: left;\n",
       "    }\n",
       "\n",
       "    .dataframe tbody tr th {\n",
       "        vertical-align: top;\n",
       "    }\n",
       "</style>\n",
       "<table border=\"1\" class=\"dataframe\">\n",
       "  <thead>\n",
       "    <tr style=\"text-align: right;\">\n",
       "      <th></th>\n",
       "      <th>CAMIS</th>\n",
       "      <th>DBA</th>\n",
       "      <th>BORO</th>\n",
       "      <th>BUILDING</th>\n",
       "      <th>STREET</th>\n",
       "      <th>ZIPCODE</th>\n",
       "      <th>PHONE</th>\n",
       "      <th>CUISINE DESCRIPTION</th>\n",
       "      <th>INSPECTION DATE</th>\n",
       "      <th>ACTION</th>\n",
       "      <th>VIOLATION CODE</th>\n",
       "      <th>VIOLATION DESCRIPTION</th>\n",
       "      <th>CRITICAL FLAG</th>\n",
       "      <th>SCORE</th>\n",
       "      <th>GRADE</th>\n",
       "      <th>GRADE DATE</th>\n",
       "      <th>RECORD DATE</th>\n",
       "      <th>INSPECTION TYPE</th>\n",
       "    </tr>\n",
       "  </thead>\n",
       "  <tbody>\n",
       "    <tr>\n",
       "      <th>0</th>\n",
       "      <td>50017257</td>\n",
       "      <td>PICK &amp; PAY GYRO &amp; PIZZA</td>\n",
       "      <td>MANHATTAN</td>\n",
       "      <td>30</td>\n",
       "      <td>LEXINGTON AVE</td>\n",
       "      <td>10010.0</td>\n",
       "      <td>2123878200</td>\n",
       "      <td>Pizza</td>\n",
       "      <td>08/30/2016</td>\n",
       "      <td>Violations were cited in the following area(s).</td>\n",
       "      <td>06F</td>\n",
       "      <td>Wiping cloths soiled or not stored in sanitizi...</td>\n",
       "      <td>Critical</td>\n",
       "      <td>15.0</td>\n",
       "      <td>NaN</td>\n",
       "      <td>NaN</td>\n",
       "      <td>11/16/2017</td>\n",
       "      <td>Cycle Inspection / Initial Inspection</td>\n",
       "    </tr>\n",
       "    <tr>\n",
       "      <th>1</th>\n",
       "      <td>40393905</td>\n",
       "      <td>GRANDSTAND TAVERN</td>\n",
       "      <td>QUEENS</td>\n",
       "      <td>8535</td>\n",
       "      <td>GRAND AVENUE</td>\n",
       "      <td>11373.0</td>\n",
       "      <td>7184789633</td>\n",
       "      <td>Irish</td>\n",
       "      <td>11/12/2015</td>\n",
       "      <td>Violations were cited in the following area(s).</td>\n",
       "      <td>10F</td>\n",
       "      <td>Non-food contact surface improperly constructe...</td>\n",
       "      <td>Not Critical</td>\n",
       "      <td>13.0</td>\n",
       "      <td>A</td>\n",
       "      <td>11/12/2015</td>\n",
       "      <td>11/16/2017</td>\n",
       "      <td>Cycle Inspection / Initial Inspection</td>\n",
       "    </tr>\n",
       "    <tr>\n",
       "      <th>2</th>\n",
       "      <td>41093742</td>\n",
       "      <td>STONE CREEK</td>\n",
       "      <td>MANHATTAN</td>\n",
       "      <td>140</td>\n",
       "      <td>EAST   27 STREET</td>\n",
       "      <td>10016.0</td>\n",
       "      <td>2125321037</td>\n",
       "      <td>American</td>\n",
       "      <td>01/28/2015</td>\n",
       "      <td>No violations were recorded at the time of thi...</td>\n",
       "      <td>NaN</td>\n",
       "      <td>NaN</td>\n",
       "      <td>Not Applicable</td>\n",
       "      <td>NaN</td>\n",
       "      <td>NaN</td>\n",
       "      <td>NaN</td>\n",
       "      <td>11/16/2017</td>\n",
       "      <td>Administrative Miscellaneous / Initial Inspection</td>\n",
       "    </tr>\n",
       "    <tr>\n",
       "      <th>3</th>\n",
       "      <td>41271436</td>\n",
       "      <td>MATSUNOYA</td>\n",
       "      <td>MANHATTAN</td>\n",
       "      <td>131</td>\n",
       "      <td>EAST 45 STREET</td>\n",
       "      <td>10017.0</td>\n",
       "      <td>6466928143</td>\n",
       "      <td>Japanese</td>\n",
       "      <td>09/08/2016</td>\n",
       "      <td>Violations were cited in the following area(s).</td>\n",
       "      <td>10F</td>\n",
       "      <td>Non-food contact surface improperly constructe...</td>\n",
       "      <td>Not Critical</td>\n",
       "      <td>5.0</td>\n",
       "      <td>NaN</td>\n",
       "      <td>NaN</td>\n",
       "      <td>11/16/2017</td>\n",
       "      <td>Pre-permit (Non-operational) / Initial Inspection</td>\n",
       "    </tr>\n",
       "    <tr>\n",
       "      <th>4</th>\n",
       "      <td>50003403</td>\n",
       "      <td>SILK ROAD CAFE</td>\n",
       "      <td>MANHATTAN</td>\n",
       "      <td>30</td>\n",
       "      <td>MOTT ST</td>\n",
       "      <td>10013.0</td>\n",
       "      <td>6462399935</td>\n",
       "      <td>CafÃ©/Coffee/Tea</td>\n",
       "      <td>11/24/2014</td>\n",
       "      <td>No violations were recorded at the time of thi...</td>\n",
       "      <td>NaN</td>\n",
       "      <td>NaN</td>\n",
       "      <td>Not Applicable</td>\n",
       "      <td>NaN</td>\n",
       "      <td>NaN</td>\n",
       "      <td>NaN</td>\n",
       "      <td>11/16/2017</td>\n",
       "      <td>Administrative Miscellaneous / Initial Inspection</td>\n",
       "    </tr>\n",
       "  </tbody>\n",
       "</table>\n",
       "</div>"
      ],
      "text/plain": [
       "      CAMIS                      DBA       BORO BUILDING            STREET  \\\n",
       "0  50017257  PICK & PAY GYRO & PIZZA  MANHATTAN       30     LEXINGTON AVE   \n",
       "1  40393905        GRANDSTAND TAVERN     QUEENS     8535      GRAND AVENUE   \n",
       "2  41093742              STONE CREEK  MANHATTAN      140  EAST   27 STREET   \n",
       "3  41271436                MATSUNOYA  MANHATTAN      131    EAST 45 STREET   \n",
       "4  50003403           SILK ROAD CAFE  MANHATTAN       30           MOTT ST   \n",
       "\n",
       "   ZIPCODE       PHONE CUISINE DESCRIPTION INSPECTION DATE  \\\n",
       "0  10010.0  2123878200               Pizza      08/30/2016   \n",
       "1  11373.0  7184789633               Irish      11/12/2015   \n",
       "2  10016.0  2125321037            American      01/28/2015   \n",
       "3  10017.0  6466928143            Japanese      09/08/2016   \n",
       "4  10013.0  6462399935    CafÃ©/Coffee/Tea      11/24/2014   \n",
       "\n",
       "                                              ACTION VIOLATION CODE  \\\n",
       "0    Violations were cited in the following area(s).            06F   \n",
       "1    Violations were cited in the following area(s).            10F   \n",
       "2  No violations were recorded at the time of thi...            NaN   \n",
       "3    Violations were cited in the following area(s).            10F   \n",
       "4  No violations were recorded at the time of thi...            NaN   \n",
       "\n",
       "                               VIOLATION DESCRIPTION   CRITICAL FLAG  SCORE  \\\n",
       "0  Wiping cloths soiled or not stored in sanitizi...        Critical   15.0   \n",
       "1  Non-food contact surface improperly constructe...    Not Critical   13.0   \n",
       "2                                                NaN  Not Applicable    NaN   \n",
       "3  Non-food contact surface improperly constructe...    Not Critical    5.0   \n",
       "4                                                NaN  Not Applicable    NaN   \n",
       "\n",
       "  GRADE  GRADE DATE RECORD DATE  \\\n",
       "0   NaN         NaN  11/16/2017   \n",
       "1     A  11/12/2015  11/16/2017   \n",
       "2   NaN         NaN  11/16/2017   \n",
       "3   NaN         NaN  11/16/2017   \n",
       "4   NaN         NaN  11/16/2017   \n",
       "\n",
       "                                     INSPECTION TYPE  \n",
       "0              Cycle Inspection / Initial Inspection  \n",
       "1              Cycle Inspection / Initial Inspection  \n",
       "2  Administrative Miscellaneous / Initial Inspection  \n",
       "3  Pre-permit (Non-operational) / Initial Inspection  \n",
       "4  Administrative Miscellaneous / Initial Inspection  "
      ]
     },
     "execution_count": 5,
     "metadata": {},
     "output_type": "execute_result"
    }
   ],
   "source": [
    "data.head(5)"
   ]
  },
  {
   "cell_type": "markdown",
   "metadata": {},
   "source": [
    "This is quite large compared to the austin data above and it has more columns too. For this data, I want to see if I can use Lasso, so I see which columns have integer or floating type values"
   ]
  },
  {
   "cell_type": "code",
   "execution_count": 361,
   "metadata": {},
   "outputs": [
    {
     "data": {
      "text/html": [
       "<div>\n",
       "<style>\n",
       "    .dataframe thead tr:only-child th {\n",
       "        text-align: right;\n",
       "    }\n",
       "\n",
       "    .dataframe thead th {\n",
       "        text-align: left;\n",
       "    }\n",
       "\n",
       "    .dataframe tbody tr th {\n",
       "        vertical-align: top;\n",
       "    }\n",
       "</style>\n",
       "<table border=\"1\" class=\"dataframe\">\n",
       "  <thead>\n",
       "    <tr style=\"text-align: right;\">\n",
       "      <th></th>\n",
       "      <th>CAMIS</th>\n",
       "      <th>ZIPCODE</th>\n",
       "      <th>SCORE</th>\n",
       "    </tr>\n",
       "  </thead>\n",
       "  <tbody>\n",
       "    <tr>\n",
       "      <th>0</th>\n",
       "      <td>50017257</td>\n",
       "      <td>10010.0</td>\n",
       "      <td>15.0</td>\n",
       "    </tr>\n",
       "    <tr>\n",
       "      <th>1</th>\n",
       "      <td>40393905</td>\n",
       "      <td>11373.0</td>\n",
       "      <td>13.0</td>\n",
       "    </tr>\n",
       "    <tr>\n",
       "      <th>2</th>\n",
       "      <td>41093742</td>\n",
       "      <td>10016.0</td>\n",
       "      <td>NaN</td>\n",
       "    </tr>\n",
       "    <tr>\n",
       "      <th>3</th>\n",
       "      <td>41271436</td>\n",
       "      <td>10017.0</td>\n",
       "      <td>5.0</td>\n",
       "    </tr>\n",
       "    <tr>\n",
       "      <th>4</th>\n",
       "      <td>50003403</td>\n",
       "      <td>10013.0</td>\n",
       "      <td>NaN</td>\n",
       "    </tr>\n",
       "  </tbody>\n",
       "</table>\n",
       "</div>"
      ],
      "text/plain": [
       "      CAMIS  ZIPCODE  SCORE\n",
       "0  50017257  10010.0   15.0\n",
       "1  40393905  11373.0   13.0\n",
       "2  41093742  10016.0    NaN\n",
       "3  41271436  10017.0    5.0\n",
       "4  50003403  10013.0    NaN"
      ]
     },
     "execution_count": 361,
     "metadata": {},
     "output_type": "execute_result"
    }
   ],
   "source": [
    "data._get_numeric_data().head(5)"
   ]
  },
  {
   "cell_type": "markdown",
   "metadata": {},
   "source": [
    "I see that out of 18 only 3 columns have integer values"
   ]
  },
  {
   "cell_type": "markdown",
   "metadata": {},
   "source": [
    "Ignoring the statistics of the Ids and the zipcodes, we see that the lowest possible score given was -2. This is an entry error in the data file. It means that the severity of the situation was such that it had to be shut down. Only one restaurant had such a rating."
   ]
  },
  {
   "cell_type": "code",
   "execution_count": 362,
   "metadata": {},
   "outputs": [
    {
     "data": {
      "text/html": [
       "<div>\n",
       "<style>\n",
       "    .dataframe thead tr:only-child th {\n",
       "        text-align: right;\n",
       "    }\n",
       "\n",
       "    .dataframe thead th {\n",
       "        text-align: left;\n",
       "    }\n",
       "\n",
       "    .dataframe tbody tr th {\n",
       "        vertical-align: top;\n",
       "    }\n",
       "</style>\n",
       "<table border=\"1\" class=\"dataframe\">\n",
       "  <thead>\n",
       "    <tr style=\"text-align: right;\">\n",
       "      <th></th>\n",
       "      <th>CAMIS</th>\n",
       "      <th>DBA</th>\n",
       "      <th>BORO</th>\n",
       "      <th>BUILDING</th>\n",
       "      <th>STREET</th>\n",
       "      <th>ZIPCODE</th>\n",
       "      <th>PHONE</th>\n",
       "      <th>CUISINE DESCRIPTION</th>\n",
       "      <th>INSPECTION DATE</th>\n",
       "      <th>ACTION</th>\n",
       "      <th>VIOLATION CODE</th>\n",
       "      <th>VIOLATION DESCRIPTION</th>\n",
       "      <th>CRITICAL FLAG</th>\n",
       "      <th>SCORE</th>\n",
       "      <th>GRADE</th>\n",
       "      <th>GRADE DATE</th>\n",
       "      <th>RECORD DATE</th>\n",
       "      <th>INSPECTION TYPE</th>\n",
       "    </tr>\n",
       "  </thead>\n",
       "  <tbody>\n",
       "    <tr>\n",
       "      <th>52686</th>\n",
       "      <td>50018394</td>\n",
       "      <td>HADI RESTAURANT</td>\n",
       "      <td>BROOKLYN</td>\n",
       "      <td>683</td>\n",
       "      <td>CONEY ISLAND AVE</td>\n",
       "      <td>11218.0</td>\n",
       "      <td>3472401175</td>\n",
       "      <td>Middle Eastern</td>\n",
       "      <td>08/11/2015</td>\n",
       "      <td>Violations were cited in the following area(s).</td>\n",
       "      <td>02B</td>\n",
       "      <td>Hot food item not held at or above 140Âº F.</td>\n",
       "      <td>Critical</td>\n",
       "      <td>-2.0</td>\n",
       "      <td>NaN</td>\n",
       "      <td>NaN</td>\n",
       "      <td>11/16/2017</td>\n",
       "      <td>Cycle Inspection / Initial Inspection</td>\n",
       "    </tr>\n",
       "    <tr>\n",
       "      <th>81458</th>\n",
       "      <td>50018394</td>\n",
       "      <td>HADI RESTAURANT</td>\n",
       "      <td>BROOKLYN</td>\n",
       "      <td>683</td>\n",
       "      <td>CONEY ISLAND AVE</td>\n",
       "      <td>11218.0</td>\n",
       "      <td>3472401175</td>\n",
       "      <td>Middle Eastern</td>\n",
       "      <td>08/11/2015</td>\n",
       "      <td>Violations were cited in the following area(s).</td>\n",
       "      <td>04N</td>\n",
       "      <td>Filth flies or food/refuse/sewage-associated (...</td>\n",
       "      <td>Critical</td>\n",
       "      <td>-2.0</td>\n",
       "      <td>NaN</td>\n",
       "      <td>NaN</td>\n",
       "      <td>11/16/2017</td>\n",
       "      <td>Cycle Inspection / Initial Inspection</td>\n",
       "    </tr>\n",
       "    <tr>\n",
       "      <th>27053</th>\n",
       "      <td>50018394</td>\n",
       "      <td>HADI RESTAURANT</td>\n",
       "      <td>BROOKLYN</td>\n",
       "      <td>683</td>\n",
       "      <td>CONEY ISLAND AVE</td>\n",
       "      <td>11218.0</td>\n",
       "      <td>3472401175</td>\n",
       "      <td>Middle Eastern</td>\n",
       "      <td>08/11/2015</td>\n",
       "      <td>Violations were cited in the following area(s).</td>\n",
       "      <td>22G</td>\n",
       "      <td>NaN</td>\n",
       "      <td>Not Applicable</td>\n",
       "      <td>-2.0</td>\n",
       "      <td>NaN</td>\n",
       "      <td>NaN</td>\n",
       "      <td>11/16/2017</td>\n",
       "      <td>Cycle Inspection / Initial Inspection</td>\n",
       "    </tr>\n",
       "  </tbody>\n",
       "</table>\n",
       "</div>"
      ],
      "text/plain": [
       "          CAMIS              DBA      BORO BUILDING            STREET  \\\n",
       "52686  50018394  HADI RESTAURANT  BROOKLYN      683  CONEY ISLAND AVE   \n",
       "81458  50018394  HADI RESTAURANT  BROOKLYN      683  CONEY ISLAND AVE   \n",
       "27053  50018394  HADI RESTAURANT  BROOKLYN      683  CONEY ISLAND AVE   \n",
       "\n",
       "       ZIPCODE       PHONE CUISINE DESCRIPTION INSPECTION DATE  \\\n",
       "52686  11218.0  3472401175      Middle Eastern      08/11/2015   \n",
       "81458  11218.0  3472401175      Middle Eastern      08/11/2015   \n",
       "27053  11218.0  3472401175      Middle Eastern      08/11/2015   \n",
       "\n",
       "                                                ACTION VIOLATION CODE  \\\n",
       "52686  Violations were cited in the following area(s).            02B   \n",
       "81458  Violations were cited in the following area(s).            04N   \n",
       "27053  Violations were cited in the following area(s).            22G   \n",
       "\n",
       "                                   VIOLATION DESCRIPTION   CRITICAL FLAG  \\\n",
       "52686        Hot food item not held at or above 140Âº F.        Critical   \n",
       "81458  Filth flies or food/refuse/sewage-associated (...        Critical   \n",
       "27053                                                NaN  Not Applicable   \n",
       "\n",
       "       SCORE GRADE GRADE DATE RECORD DATE  \\\n",
       "52686   -2.0   NaN        NaN  11/16/2017   \n",
       "81458   -2.0   NaN        NaN  11/16/2017   \n",
       "27053   -2.0   NaN        NaN  11/16/2017   \n",
       "\n",
       "                             INSPECTION TYPE  \n",
       "52686  Cycle Inspection / Initial Inspection  \n",
       "81458  Cycle Inspection / Initial Inspection  \n",
       "27053  Cycle Inspection / Initial Inspection  "
      ]
     },
     "execution_count": 362,
     "metadata": {},
     "output_type": "execute_result"
    }
   ],
   "source": [
    "data[data['SCORE'] == -2]"
   ]
  },
  {
   "cell_type": "code",
   "execution_count": 363,
   "metadata": {},
   "outputs": [
    {
     "data": {
      "text/html": [
       "<div>\n",
       "<style>\n",
       "    .dataframe thead tr:only-child th {\n",
       "        text-align: right;\n",
       "    }\n",
       "\n",
       "    .dataframe thead th {\n",
       "        text-align: left;\n",
       "    }\n",
       "\n",
       "    .dataframe tbody tr th {\n",
       "        vertical-align: top;\n",
       "    }\n",
       "</style>\n",
       "<table border=\"1\" class=\"dataframe\">\n",
       "  <thead>\n",
       "    <tr style=\"text-align: right;\">\n",
       "      <th></th>\n",
       "      <th>ZIPCODE</th>\n",
       "      <th>SCORE</th>\n",
       "    </tr>\n",
       "  </thead>\n",
       "  <tbody>\n",
       "    <tr>\n",
       "      <th>0</th>\n",
       "      <td>10010.0</td>\n",
       "      <td>15.0</td>\n",
       "    </tr>\n",
       "  </tbody>\n",
       "</table>\n",
       "</div>"
      ],
      "text/plain": [
       "   ZIPCODE  SCORE\n",
       "0  10010.0   15.0"
      ]
     },
     "execution_count": 363,
     "metadata": {},
     "output_type": "execute_result"
    }
   ],
   "source": [
    "data.select_dtypes(include=['float']).head(1)"
   ]
  },
  {
   "cell_type": "code",
   "execution_count": 364,
   "metadata": {},
   "outputs": [
    {
     "data": {
      "text/html": [
       "<div>\n",
       "<style>\n",
       "    .dataframe thead tr:only-child th {\n",
       "        text-align: right;\n",
       "    }\n",
       "\n",
       "    .dataframe thead th {\n",
       "        text-align: left;\n",
       "    }\n",
       "\n",
       "    .dataframe tbody tr th {\n",
       "        vertical-align: top;\n",
       "    }\n",
       "</style>\n",
       "<table border=\"1\" class=\"dataframe\">\n",
       "  <thead>\n",
       "    <tr style=\"text-align: right;\">\n",
       "      <th></th>\n",
       "      <th>CAMIS</th>\n",
       "    </tr>\n",
       "  </thead>\n",
       "  <tbody>\n",
       "    <tr>\n",
       "      <th>0</th>\n",
       "      <td>50017257</td>\n",
       "    </tr>\n",
       "  </tbody>\n",
       "</table>\n",
       "</div>"
      ],
      "text/plain": [
       "      CAMIS\n",
       "0  50017257"
      ]
     },
     "execution_count": 364,
     "metadata": {},
     "output_type": "execute_result"
    }
   ],
   "source": [
    "data.select_dtypes(include=['int']).head(1)"
   ]
  },
  {
   "cell_type": "markdown",
   "metadata": {},
   "source": [
    "Only 3 columns have integer/float values, which is not a good base for Lasso regression. To make the regression results fairer, I have dropped all the nan values from the dataframe."
   ]
  },
  {
   "cell_type": "code",
   "execution_count": 365,
   "metadata": {
    "collapsed": true
   },
   "outputs": [],
   "source": [
    "data = data.dropna()"
   ]
  },
  {
   "cell_type": "markdown",
   "metadata": {},
   "source": [
    "I am converting the column names to names with any sort of joining operator in them to make certain operations easier where we have to call the column names and white spaces are taken to be errors."
   ]
  },
  {
   "cell_type": "code",
   "execution_count": 6,
   "metadata": {
    "collapsed": true
   },
   "outputs": [],
   "source": [
    "data.columns = ['camis','dba','boro','building','street','zipcode','phone','cuisine_description','inspection_date','action','violation_code','violation_description','critical_flag','score','grade','grade_date','record_date','inspection_type']"
   ]
  },
  {
   "cell_type": "markdown",
   "metadata": {
    "collapsed": true
   },
   "source": [
    "Converting the date column to datetime so that it is easier to plot the dates and understand whcih date we are looking at."
   ]
  },
  {
   "cell_type": "code",
   "execution_count": 367,
   "metadata": {
    "collapsed": true
   },
   "outputs": [],
   "source": [
    "from pandas import DatetimeIndex\n",
    "data['month'] = DatetimeIndex(data['record_date']).month\n"
   ]
  },
  {
   "cell_type": "code",
   "execution_count": 368,
   "metadata": {
    "collapsed": true
   },
   "outputs": [],
   "source": [
    "count_df = data.groupby(['boro'])['dba'].count()\n",
    "count_df = count_df.to_frame()\n",
    "count_df = count_df.reset_index()"
   ]
  },
  {
   "cell_type": "code",
   "execution_count": null,
   "metadata": {
    "collapsed": true
   },
   "outputs": [],
   "source": []
  },
  {
   "cell_type": "code",
   "execution_count": 369,
   "metadata": {},
   "outputs": [
    {
     "data": {
      "text/plain": [
       "<Container object of 6 artists>"
      ]
     },
     "execution_count": 369,
     "metadata": {},
     "output_type": "execute_result"
    },
    {
     "data": {
      "image/png": "[encoded data removed]",
      "text/plain": [
       "<matplotlib.figure.Figure at 0x1a0dfbfc18>"
      ]
     },
     "metadata": {},
     "output_type": "display_data"
    }
   ],
   "source": [
    "import matplotlib.pyplot as plt\n",
    "%matplotlib inline\n",
    "plt.bar(count_df['boro'],count_df['dba'])\n"
   ]
  },
  {
   "cell_type": "markdown",
   "metadata": {},
   "source": [
    "How many Restaurants in each cuisine"
   ]
  },
  {
   "cell_type": "code",
   "execution_count": 370,
   "metadata": {
    "collapsed": true
   },
   "outputs": [],
   "source": [
    "count_df = data.groupby(['cuisine_description'])['dba'].count()\n",
    "count_df = count_df.to_frame()\n",
    "count_df = count_df.reset_index()"
   ]
  },
  {
   "cell_type": "code",
   "execution_count": 381,
   "metadata": {
    "scrolled": true
   },
   "outputs": [
    {
     "data": {
      "image/png": "[encoded data removed]",
      "text/plain": [
       "<matplotlib.figure.Figure at 0x1a0faff5c0>"
      ]
     },
     "metadata": {},
     "output_type": "display_data"
    }
   ],
   "source": [
    "import matplotlib.pyplot as plt\n",
    "\n",
    "plt.bar(count_df['cuisine_description'],count_df['dba'])\n",
    "fig_size = plt.rcParams[\"figure.figsize\"]\n",
    "fig_size[0] = 30\n",
    "fig_size[1] = 9\n",
    "plt.xticks(rotation=90)\n",
    "plt.show()"
   ]
  },
  {
   "cell_type": "code",
   "execution_count": 372,
   "metadata": {},
   "outputs": [
    {
     "data": {
      "text/html": [
       "<div>\n",
       "<style>\n",
       "    .dataframe thead tr:only-child th {\n",
       "        text-align: right;\n",
       "    }\n",
       "\n",
       "    .dataframe thead th {\n",
       "        text-align: left;\n",
       "    }\n",
       "\n",
       "    .dataframe tbody tr th {\n",
       "        vertical-align: top;\n",
       "    }\n",
       "</style>\n",
       "<table border=\"1\" class=\"dataframe\">\n",
       "  <thead>\n",
       "    <tr style=\"text-align: right;\">\n",
       "      <th></th>\n",
       "      <th>cuisine_description</th>\n",
       "      <th>dba</th>\n",
       "    </tr>\n",
       "  </thead>\n",
       "  <tbody>\n",
       "    <tr>\n",
       "      <th>2</th>\n",
       "      <td>American</td>\n",
       "      <td>44894</td>\n",
       "    </tr>\n",
       "    <tr>\n",
       "      <th>19</th>\n",
       "      <td>Chinese</td>\n",
       "      <td>20304</td>\n",
       "    </tr>\n",
       "    <tr>\n",
       "      <th>62</th>\n",
       "      <td>Pizza</td>\n",
       "      <td>9104</td>\n",
       "    </tr>\n",
       "    <tr>\n",
       "      <th>13</th>\n",
       "      <td>CafÃ©/Coffee/Tea</td>\n",
       "      <td>8612</td>\n",
       "    </tr>\n",
       "    <tr>\n",
       "      <th>46</th>\n",
       "      <td>Italian</td>\n",
       "      <td>8535</td>\n",
       "    </tr>\n",
       "  </tbody>\n",
       "</table>\n",
       "</div>"
      ],
      "text/plain": [
       "   cuisine_description    dba\n",
       "2             American  44894\n",
       "19             Chinese  20304\n",
       "62               Pizza   9104\n",
       "13    CafÃ©/Coffee/Tea   8612\n",
       "46             Italian   8535"
      ]
     },
     "execution_count": 372,
     "metadata": {},
     "output_type": "execute_result"
    }
   ],
   "source": [
    "count_df.sort_values(by='dba',ascending=False).head(5)"
   ]
  },
  {
   "cell_type": "markdown",
   "metadata": {},
   "source": [
    "As seen from the above graph, the highest number of restaurants in NY serve American cuisine and since Chinatown is huge, I am not surprised that Chinese has the second highest number of restaurants.\n"
   ]
  },
  {
   "cell_type": "markdown",
   "metadata": {},
   "source": [
    "Finding the highest and lowest score given"
   ]
  },
  {
   "cell_type": "code",
   "execution_count": 7,
   "metadata": {},
   "outputs": [
    {
     "data": {
      "text/plain": [
       "151.0"
      ]
     },
     "execution_count": 7,
     "metadata": {},
     "output_type": "execute_result"
    }
   ],
   "source": [
    "data['score'].max()"
   ]
  },
  {
   "cell_type": "code",
   "execution_count": 8,
   "metadata": {},
   "outputs": [
    {
     "data": {
      "text/plain": [
       "-2.0"
      ]
     },
     "execution_count": 8,
     "metadata": {},
     "output_type": "execute_result"
    }
   ],
   "source": [
    "data['score'].min()"
   ]
  },
  {
   "cell_type": "code",
   "execution_count": 9,
   "metadata": {
    "collapsed": true
   },
   "outputs": [],
   "source": [
    "mean_sc = data['score'].mean()"
   ]
  },
  {
   "cell_type": "markdown",
   "metadata": {},
   "source": [
    "I found the mean score to compare the other scores to to set a binary column for score to run a logistic regression."
   ]
  },
  {
   "cell_type": "code",
   "execution_count": 10,
   "metadata": {
    "collapsed": true
   },
   "outputs": [],
   "source": [
    "mean_sc = float(mean_sc)"
   ]
  },
  {
   "cell_type": "code",
   "execution_count": 11,
   "metadata": {},
   "outputs": [
    {
     "data": {
      "text/plain": [
       "18.94402925404322"
      ]
     },
     "execution_count": 11,
     "metadata": {},
     "output_type": "execute_result"
    }
   ],
   "source": [
    "mean_sc"
   ]
  },
  {
   "cell_type": "markdown",
   "metadata": {},
   "source": [
    "I have defined a bad restaurant has one which has a below average score. I want to see how many bad restaurants there are in each neighborhood"
   ]
  },
  {
   "cell_type": "code",
   "execution_count": 12,
   "metadata": {
    "collapsed": true
   },
   "outputs": [],
   "source": [
    "bad_df = data[data['score'] < mean_sc]"
   ]
  },
  {
   "cell_type": "code",
   "execution_count": 13,
   "metadata": {},
   "outputs": [
    {
     "data": {
      "text/plain": [
       "boro\n",
       "BRONX            20331\n",
       "BROOKLYN         55554\n",
       "MANHATTAN        88081\n",
       "Missing              5\n",
       "QUEENS           52915\n",
       "STATEN ISLAND     7129\n",
       "Name: dba, dtype: int64"
      ]
     },
     "execution_count": 13,
     "metadata": {},
     "output_type": "execute_result"
    }
   ],
   "source": [
    "bad_df.groupby('boro')['dba'].count()"
   ]
  },
  {
   "cell_type": "markdown",
   "metadata": {},
   "source": [
    "## Montgomery county of Maryland"
   ]
  },
  {
   "cell_type": "markdown",
   "metadata": {},
   "source": [
    "I chose this dataset as it was the first one I found on https://catalog.data.gov/dataset?q=restaurant+inspection&sort=views_recent+desc&as_sfid=AAAAAAXqlkN0kcteYbdp_GlKlefL6-62M7ZPsA7bKipwMcKGNHVPBA6JFcBjOowcrCGFwHfneC2szIvY0Yhj1sMu44OmZf_rwMNLNqZ4Ah4k0Lwm6h9VXToKz-c5jtK6Z54GKhc%3D&as_fid=ed85b724ae978824903262a08cb3a262f09918e2&ext_location=&ext_bbox=&ext_prev_extent=-142.03125%2C8.754794702435618%2C-59.0625%2C61.77312286453146 that had data measured by the LIVES standard. LIVES is an open data standard which allows municipalities to publish restaurant inspection information to Yelp."
   ]
  },
  {
   "cell_type": "code",
   "execution_count": 123,
   "metadata": {
    "collapsed": true
   },
   "outputs": [],
   "source": [
    "data = pd.read_csv('Score1.csv')"
   ]
  },
  {
   "cell_type": "code",
   "execution_count": 124,
   "metadata": {},
   "outputs": [
    {
     "data": {
      "text/plain": [
       "(16404, 16)"
      ]
     },
     "execution_count": 124,
     "metadata": {},
     "output_type": "execute_result"
    }
   ],
   "source": [
    "data.shape"
   ]
  },
  {
   "cell_type": "code",
   "execution_count": 125,
   "metadata": {
    "collapsed": true
   },
   "outputs": [],
   "source": [
    "data = data.dropna()"
   ]
  },
  {
   "cell_type": "code",
   "execution_count": 126,
   "metadata": {},
   "outputs": [
    {
     "data": {
      "text/plain": [
       "(8040, 16)"
      ]
     },
     "execution_count": 126,
     "metadata": {},
     "output_type": "execute_result"
    }
   ],
   "source": [
    "data.shape"
   ]
  },
  {
   "cell_type": "markdown",
   "metadata": {},
   "source": [
    "We see that on eliminating the Nan values, the dataset is halved. This means that the data collection has been done poorly and we cannot get a good enough idea about whatever research we want to do. We can fill the NA values by 0 but that would make the dataset biased."
   ]
  },
  {
   "cell_type": "code",
   "execution_count": 127,
   "metadata": {},
   "outputs": [
    {
     "data": {
      "text/html": [
       "<div>\n",
       "<style>\n",
       "    .dataframe thead tr:only-child th {\n",
       "        text-align: right;\n",
       "    }\n",
       "\n",
       "    .dataframe thead th {\n",
       "        text-align: left;\n",
       "    }\n",
       "\n",
       "    .dataframe tbody tr th {\n",
       "        vertical-align: top;\n",
       "    }\n",
       "</style>\n",
       "<table border=\"1\" class=\"dataframe\">\n",
       "  <thead>\n",
       "    <tr style=\"text-align: right;\">\n",
       "      <th></th>\n",
       "      <th>business_id</th>\n",
       "      <th>business_name</th>\n",
       "      <th>business_address</th>\n",
       "      <th>business_city</th>\n",
       "      <th>business_state</th>\n",
       "      <th>business_postal_code</th>\n",
       "      <th>business_latitude</th>\n",
       "      <th>business_longitude</th>\n",
       "      <th>business_location</th>\n",
       "      <th>inspection_id</th>\n",
       "      <th>inspection_date</th>\n",
       "      <th>inspection_result</th>\n",
       "      <th>inspection_type</th>\n",
       "      <th>violation_id</th>\n",
       "      <th>violation_description</th>\n",
       "      <th>violation_critical</th>\n",
       "    </tr>\n",
       "  </thead>\n",
       "  <tbody>\n",
       "    <tr>\n",
       "      <th>4</th>\n",
       "      <td>19057</td>\n",
       "      <td>CAVA MEZZE GRILL</td>\n",
       "      <td>9713 TRAVILLE GATEWAY DR</td>\n",
       "      <td>ROCKVILLE</td>\n",
       "      <td>MD</td>\n",
       "      <td>20850</td>\n",
       "      <td>39.0915</td>\n",
       "      <td>-77.2039</td>\n",
       "      <td>(39.0915, -77.2039)</td>\n",
       "      <td>19057_2016-02-04</td>\n",
       "      <td>02/04/2016 12:00:00 AM</td>\n",
       "      <td>PASS</td>\n",
       "      <td>routine</td>\n",
       "      <td>19057_2016-02-04_ColdHoldingTemperature(C)</td>\n",
       "      <td>Standard not met: Cold Holding Temperature (C)</td>\n",
       "      <td>True</td>\n",
       "    </tr>\n",
       "    <tr>\n",
       "      <th>5</th>\n",
       "      <td>18858</td>\n",
       "      <td>CAF� 2020</td>\n",
       "      <td>4870 BOILING BROOK PKWY.</td>\n",
       "      <td>ROCKVILLE</td>\n",
       "      <td>MD</td>\n",
       "      <td>20852</td>\n",
       "      <td>39.0460</td>\n",
       "      <td>-77.0996</td>\n",
       "      <td>(39.046, -77.0996)</td>\n",
       "      <td>18858_2015-10-31</td>\n",
       "      <td>10/31/2015 12:00:00 AM</td>\n",
       "      <td>PASS</td>\n",
       "      <td>routine</td>\n",
       "      <td>18858_2015-10-31_RodentandInsects</td>\n",
       "      <td>Standard not met: Rodent and Insects</td>\n",
       "      <td>False</td>\n",
       "    </tr>\n",
       "    <tr>\n",
       "      <th>6</th>\n",
       "      <td>18420</td>\n",
       "      <td>SKKY MARKET</td>\n",
       "      <td>108-G OLDE TOWNE AVE.</td>\n",
       "      <td>GAITHERSBURG</td>\n",
       "      <td>MD</td>\n",
       "      <td>20877</td>\n",
       "      <td>39.1409</td>\n",
       "      <td>-77.1947</td>\n",
       "      <td>(39.1409, -77.1947)</td>\n",
       "      <td>18420_2016-02-08</td>\n",
       "      <td>02/08/2016 12:00:00 AM</td>\n",
       "      <td>PASS</td>\n",
       "      <td>routine</td>\n",
       "      <td>18420_2016-02-08_ColdHoldingTemperature(C)</td>\n",
       "      <td>Standard not met: Cold Holding Temperature (C)</td>\n",
       "      <td>True</td>\n",
       "    </tr>\n",
       "    <tr>\n",
       "      <th>7</th>\n",
       "      <td>23829</td>\n",
       "      <td>UPTOWN PIEDMONT, LLC</td>\n",
       "      <td>6720-A ROCKLEDGE DRIVE</td>\n",
       "      <td>BETHESDA</td>\n",
       "      <td>MD</td>\n",
       "      <td>20817</td>\n",
       "      <td>39.0291</td>\n",
       "      <td>-77.1377</td>\n",
       "      <td>(39.0291, -77.1377)</td>\n",
       "      <td>23829_2016-02-08</td>\n",
       "      <td>02/08/2016 12:00:00 AM</td>\n",
       "      <td>PASS</td>\n",
       "      <td>routine</td>\n",
       "      <td>23829_2016-02-08_ColdHoldingTemperature(C)</td>\n",
       "      <td>Standard not met: Cold Holding Temperature (C)</td>\n",
       "      <td>True</td>\n",
       "    </tr>\n",
       "    <tr>\n",
       "      <th>9</th>\n",
       "      <td>18420</td>\n",
       "      <td>SKKY MARKET</td>\n",
       "      <td>108-G OLDE TOWNE AVE.</td>\n",
       "      <td>GAITHERSBURG</td>\n",
       "      <td>MD</td>\n",
       "      <td>20877</td>\n",
       "      <td>39.1409</td>\n",
       "      <td>-77.1947</td>\n",
       "      <td>(39.1409, -77.1947)</td>\n",
       "      <td>18420_2016-02-08</td>\n",
       "      <td>02/08/2016 12:00:00 AM</td>\n",
       "      <td>PASS</td>\n",
       "      <td>routine</td>\n",
       "      <td>18420_2016-02-08_RodentandInsects</td>\n",
       "      <td>Standard not met: Rodent and Insects</td>\n",
       "      <td>False</td>\n",
       "    </tr>\n",
       "  </tbody>\n",
       "</table>\n",
       "</div>"
      ],
      "text/plain": [
       "   business_id         business_name          business_address business_city  \\\n",
       "4        19057      CAVA MEZZE GRILL  9713 TRAVILLE GATEWAY DR     ROCKVILLE   \n",
       "5        18858             CAF� 2020  4870 BOILING BROOK PKWY.     ROCKVILLE   \n",
       "6        18420           SKKY MARKET     108-G OLDE TOWNE AVE.  GAITHERSBURG   \n",
       "7        23829  UPTOWN PIEDMONT, LLC    6720-A ROCKLEDGE DRIVE      BETHESDA   \n",
       "9        18420           SKKY MARKET     108-G OLDE TOWNE AVE.  GAITHERSBURG   \n",
       "\n",
       "  business_state  business_postal_code  business_latitude  business_longitude  \\\n",
       "4             MD                 20850            39.0915            -77.2039   \n",
       "5             MD                 20852            39.0460            -77.0996   \n",
       "6             MD                 20877            39.1409            -77.1947   \n",
       "7             MD                 20817            39.0291            -77.1377   \n",
       "9             MD                 20877            39.1409            -77.1947   \n",
       "\n",
       "     business_location     inspection_id         inspection_date  \\\n",
       "4  (39.0915, -77.2039)  19057_2016-02-04  02/04/2016 12:00:00 AM   \n",
       "5   (39.046, -77.0996)  18858_2015-10-31  10/31/2015 12:00:00 AM   \n",
       "6  (39.1409, -77.1947)  18420_2016-02-08  02/08/2016 12:00:00 AM   \n",
       "7  (39.0291, -77.1377)  23829_2016-02-08  02/08/2016 12:00:00 AM   \n",
       "9  (39.1409, -77.1947)  18420_2016-02-08  02/08/2016 12:00:00 AM   \n",
       "\n",
       "  inspection_result inspection_type  \\\n",
       "4              PASS         routine   \n",
       "5              PASS         routine   \n",
       "6              PASS         routine   \n",
       "7              PASS         routine   \n",
       "9              PASS         routine   \n",
       "\n",
       "                                 violation_id  \\\n",
       "4  19057_2016-02-04_ColdHoldingTemperature(C)   \n",
       "5           18858_2015-10-31_RodentandInsects   \n",
       "6  18420_2016-02-08_ColdHoldingTemperature(C)   \n",
       "7  23829_2016-02-08_ColdHoldingTemperature(C)   \n",
       "9           18420_2016-02-08_RodentandInsects   \n",
       "\n",
       "                            violation_description violation_critical  \n",
       "4  Standard not met: Cold Holding Temperature (C)               True  \n",
       "5            Standard not met: Rodent and Insects              False  \n",
       "6  Standard not met: Cold Holding Temperature (C)               True  \n",
       "7  Standard not met: Cold Holding Temperature (C)               True  \n",
       "9            Standard not met: Rodent and Insects              False  "
      ]
     },
     "execution_count": 127,
     "metadata": {},
     "output_type": "execute_result"
    }
   ],
   "source": [
    "data.head(5)"
   ]
  },
  {
   "cell_type": "markdown",
   "metadata": {},
   "source": [
    "In this data, instead of score, they have mentioned whether the restaurant has passed the inspection or not."
   ]
  },
  {
   "cell_type": "code",
   "execution_count": 128,
   "metadata": {},
   "outputs": [
    {
     "data": {
      "text/plain": [
       "4     PASS\n",
       "88    FAIL\n",
       "Name: inspection_result, dtype: object"
      ]
     },
     "execution_count": 128,
     "metadata": {},
     "output_type": "execute_result"
    }
   ],
   "source": [
    "data['inspection_result'].drop_duplicates()"
   ]
  },
  {
   "cell_type": "code",
   "execution_count": 129,
   "metadata": {},
   "outputs": [
    {
     "data": {
      "text/plain": [
       "inspection_result\n",
       "FAIL     101\n",
       "PASS    7939\n",
       "Name: business_id, dtype: int64"
      ]
     },
     "execution_count": 129,
     "metadata": {},
     "output_type": "execute_result"
    }
   ],
   "source": [
    "data.groupby('inspection_result')['business_id'].count()"
   ]
  },
  {
   "cell_type": "markdown",
   "metadata": {},
   "source": [
    "From the above count, we see that a majority of the restaurants have passed the inspection and about 100 restaurants or less have failed it. In this dataset there are many entries for one restaurant since there are different inspection date for each of them. To see the restaurants that have failed the inspection, I extract the failed restaurant details from the above dataframe and look at only the restaurant names. I then eliminate the duplicates which should give the actual count of restaurants that have failed the inspection."
   ]
  },
  {
   "cell_type": "code",
   "execution_count": 130,
   "metadata": {
    "collapsed": true
   },
   "outputs": [],
   "source": [
    "df = data[data['inspection_result'] == 'FAIL']"
   ]
  },
  {
   "cell_type": "code",
   "execution_count": 131,
   "metadata": {
    "collapsed": true
   },
   "outputs": [],
   "source": [
    "df = df[['business_name']]"
   ]
  },
  {
   "cell_type": "code",
   "execution_count": 132,
   "metadata": {
    "collapsed": true
   },
   "outputs": [],
   "source": [
    "failed_rest = df.drop_duplicates().values.tolist()"
   ]
  },
  {
   "cell_type": "markdown",
   "metadata": {},
   "source": [
    "This means that 48 restaurants (not 101) have failed the inspection. It would be interesting to see if they have improved themselves and managed to pass or not. To do that, we can either consider just one restaurant or make a dictionary and store their inspection results. I have done both."
   ]
  },
  {
   "cell_type": "markdown",
   "metadata": {},
   "source": [
    "Considering only one restaurant"
   ]
  },
  {
   "cell_type": "code",
   "execution_count": 133,
   "metadata": {
    "collapsed": true
   },
   "outputs": [],
   "source": [
    "data_one = data[data['business_name'] == failed_rest[0][0]][['business_name','inspection_date']]"
   ]
  },
  {
   "cell_type": "code",
   "execution_count": 134,
   "metadata": {},
   "outputs": [
    {
     "data": {
      "text/html": [
       "<div>\n",
       "<style>\n",
       "    .dataframe thead tr:only-child th {\n",
       "        text-align: right;\n",
       "    }\n",
       "\n",
       "    .dataframe thead th {\n",
       "        text-align: left;\n",
       "    }\n",
       "\n",
       "    .dataframe tbody tr th {\n",
       "        vertical-align: top;\n",
       "    }\n",
       "</style>\n",
       "<table border=\"1\" class=\"dataframe\">\n",
       "  <thead>\n",
       "    <tr style=\"text-align: right;\">\n",
       "      <th></th>\n",
       "      <th>business_name</th>\n",
       "      <th>inspection_date</th>\n",
       "    </tr>\n",
       "  </thead>\n",
       "  <tbody>\n",
       "    <tr>\n",
       "      <th>88</th>\n",
       "      <td>SPRING MILL BREAD CO.</td>\n",
       "      <td>02/09/2016 12:00:00 AM</td>\n",
       "    </tr>\n",
       "    <tr>\n",
       "      <th>95</th>\n",
       "      <td>SPRING MILL BREAD CO.</td>\n",
       "      <td>02/09/2016 12:00:00 AM</td>\n",
       "    </tr>\n",
       "    <tr>\n",
       "      <th>6713</th>\n",
       "      <td>SPRING MILL BREAD CO.</td>\n",
       "      <td>05/13/2015 12:00:00 AM</td>\n",
       "    </tr>\n",
       "    <tr>\n",
       "      <th>7175</th>\n",
       "      <td>SPRING MILL BREAD CO.</td>\n",
       "      <td>11/27/2015 12:00:00 AM</td>\n",
       "    </tr>\n",
       "    <tr>\n",
       "      <th>8211</th>\n",
       "      <td>SPRING MILL BREAD CO.</td>\n",
       "      <td>11/27/2015 12:00:00 AM</td>\n",
       "    </tr>\n",
       "  </tbody>\n",
       "</table>\n",
       "</div>"
      ],
      "text/plain": [
       "              business_name         inspection_date\n",
       "88    SPRING MILL BREAD CO.  02/09/2016 12:00:00 AM\n",
       "95    SPRING MILL BREAD CO.  02/09/2016 12:00:00 AM\n",
       "6713  SPRING MILL BREAD CO.  05/13/2015 12:00:00 AM\n",
       "7175  SPRING MILL BREAD CO.  11/27/2015 12:00:00 AM\n",
       "8211  SPRING MILL BREAD CO.  11/27/2015 12:00:00 AM"
      ]
     },
     "execution_count": 134,
     "metadata": {},
     "output_type": "execute_result"
    }
   ],
   "source": [
    "data_one"
   ]
  },
  {
   "cell_type": "markdown",
   "metadata": {},
   "source": [
    "Considering all of the restaurants"
   ]
  },
  {
   "cell_type": "code",
   "execution_count": 135,
   "metadata": {
    "collapsed": true
   },
   "outputs": [],
   "source": [
    "dictionary = {}\n",
    "for i in range(0,len(failed_rest)):\n",
    "    dictionary[i] = data[data['business_name'] == failed_rest[i][0]][['business_name','inspection_date','inspection_result']]"
   ]
  },
  {
   "cell_type": "code",
   "execution_count": 136,
   "metadata": {
    "collapsed": true,
    "scrolled": true
   },
   "outputs": [],
   "source": [
    "keys = (0, 2)\n",
    "d1 = {k: dictionary[k] for k in keys}"
   ]
  },
  {
   "cell_type": "code",
   "execution_count": 137,
   "metadata": {
    "scrolled": true
   },
   "outputs": [
    {
     "data": {
      "text/plain": [
       "{0:               business_name         inspection_date inspection_result\n",
       " 88    SPRING MILL BREAD CO.  02/09/2016 12:00:00 AM              FAIL\n",
       " 95    SPRING MILL BREAD CO.  02/09/2016 12:00:00 AM              FAIL\n",
       " 6713  SPRING MILL BREAD CO.  05/13/2015 12:00:00 AM              PASS\n",
       " 7175  SPRING MILL BREAD CO.  11/27/2015 12:00:00 AM              PASS\n",
       " 8211  SPRING MILL BREAD CO.  11/27/2015 12:00:00 AM              PASS,\n",
       " 2:              business_name         inspection_date inspection_result\n",
       " 1824   EDIBLE ARRANGEMENTS  03/09/2016 12:00:00 AM              FAIL\n",
       " 1849   EDIBLE ARRANGEMENTS  10/26/2015 12:00:00 AM              PASS\n",
       " 1868   EDIBLE ARRANGEMENTS  03/09/2016 12:00:00 AM              FAIL\n",
       " 2059   EDIBLE ARRANGEMENTS  03/10/2016 12:00:00 AM              PASS\n",
       " 11463  EDIBLE ARRANGEMENTS  10/19/2016 12:00:00 AM              PASS\n",
       " 12229  EDIBLE ARRANGEMENTS  11/15/2016 12:00:00 AM              PASS}"
      ]
     },
     "execution_count": 137,
     "metadata": {},
     "output_type": "execute_result"
    }
   ],
   "source": [
    "d1"
   ]
  },
  {
   "cell_type": "markdown",
   "metadata": {},
   "source": [
    "For Spring mill bread co. we see that after getting a FAIL on 9th February 2016, on the inspection on 13th December they had  PASS. In case of Peruvian Country chicken, they received a PASS grade only a day after getting a FAIL grade. I could guess that the second inspection would have been a surprise inspection for them."
   ]
  },
  {
   "cell_type": "code",
   "execution_count": 140,
   "metadata": {
    "scrolled": false
   },
   "outputs": [
    {
     "data": {
      "text/plain": [
       "violation_description\n",
       "Standard not met: Cold Holding Temperature (C)               2946\n",
       "Standard not met: Cooking Time and Temperature (C)             73\n",
       "Standard not met: Cooling Time and Temperature (C)            218\n",
       "Standard not met: Food Protected from Contamination (C)       431\n",
       "Standard not met: Food from Approved Source (C)                88\n",
       "Standard not met: Hot Holding Temperature (C)                1038\n",
       "Standard not met: Hot and Cold Running Water Provided (C)      98\n",
       "Standard not met: Ill Workers Restricted (C)                   20\n",
       "Standard not met: No-Smoking Sign Posted                      235\n",
       "Standard not met: Proper Hand Washing (C)                     432\n",
       "Standard not met: Proper Sewage Disposal (C)                   47\n",
       "Standard not met: Reheating Time and Temperature (C)           79\n",
       "Standard not met: Rodent and Insects                         1797\n",
       "Standard not met: Toxic Substances & Pesticides                82\n",
       "Standard not met: Trans Fat Ban                               456\n",
       "Name: business_name, dtype: int64"
      ]
     },
     "execution_count": 140,
     "metadata": {},
     "output_type": "execute_result"
    }
   ],
   "source": [
    "data.groupby('violation_description')['business_name'].count()"
   ]
  },
  {
   "cell_type": "markdown",
   "metadata": {},
   "source": [
    "From the above description of health violations, we can conclude that most restaurants have violated the cold holding temperature standard. Temperature and time are the most important factors for controlling growth of disease-causing bacteria in food. Temperature danger zone is between 41°F and 140°F. Hot food should be kept hot and cold food should be kept cold."
   ]
  },
  {
   "cell_type": "markdown",
   "metadata": {
    "collapsed": true
   },
   "source": [
    "Since no type of regression can be done on this data, theres only some type of analysis that can be done. This is a limitation of all the datasets."
   ]
  },
  {
   "cell_type": "markdown",
   "metadata": {
    "collapsed": true
   },
   "source": [
    "## Conclusion and Future Work"
   ]
  },
  {
   "cell_type": "markdown",
   "metadata": {},
   "source": [
    "My original question was to compare how inspection happens in different cities in the USA. From the above analysis on both datasets, I think it would not be a good move to compare New York and Austin restaurant inspection scores because of the way both have been scored by the Health department.  \n",
    "They have separate statistics and maximums and minimums. Evaluation of both city's restaurants would've been completely different. The third dataset is different from the other datasets because of the pass/fail column in place of scores. In this case, I could only see the pass/fail results of each restaurant. \n",
    "In the future, I would like to look at inspection data from other cities and see how and on what metrics they are evaluated. In the existing datasets, they do not tell us what lead to giving a restaurant a particular score. If that information had been given, a regression would have definitely told us what factors affected a restaurant getting a particular score or grade."
   ]
  },
  {
   "cell_type": "markdown",
   "metadata": {},
   "source": [
    "## Human-Centered Aspect"
   ]
  },
  {
   "cell_type": "markdown",
   "metadata": {},
   "source": [
    "Restaurant ratings matter to a lot of people. Before going anywhere, people ask recommendations to their friends about places to eat and places that are hygienic and clean. If a particular place has a bad rating, customers will not enter the establishment based on reviews alone. No matter how good the food may be. In these cases, analysis which show how restaurants can improve their score and attract more customers becomes very important. For exampe, I had been to a place on the Ave which serves Indian food and I had not looked up their rating online. I ordered some food and saw that the establishment looked dirty and beaten down. The next day I had food poisoning from their dish. It could happen to anyone and it shouldn't. To avoid these situations, we should have some sort of analysis that should tell us which places to avoid and which places to eat at. This project is intended for customers and restaurant owners as well. Customers can take away the places where there are good quality restaurants present and the names and owners can see what they can do to improve customer intake by getting a good score on the first inspection itself."
   ]
  },
  {
   "cell_type": "markdown",
   "metadata": {
    "collapsed": true
   },
   "source": [
    "### Limitations in the datasets"
   ]
  },
  {
   "cell_type": "markdown",
   "metadata": {},
   "source": [
    "The Austin dataset is too small and does not have enough variables for a regression to give us a meaningful result. There are also many Nan values in the dataset which if filled, could result in a bias in the analysis. \n",
    "\n",
    "The New York dataset has a lot of Nan values which makes it harder to do any kind of analysis. Although it is a larger dataset, it is a very messy one and hard to understand in one glance. Some sort of data cleaning is required before proceeding with the analysis."
   ]
  },
  {
   "cell_type": "markdown",
   "metadata": {},
   "source": [
    "Datasets also have establishments that aren't restaurants, impossibly high and low scores (151 and -2). These serious data cleaning issues affect my analysis results in a big way. On removing the Nan values in the Maryland dataset, almost half the dataset was removed. This is not a good way to analyse data."
   ]
  },
  {
   "cell_type": "markdown",
   "metadata": {
    "collapsed": true
   },
   "source": [
    "### References"
   ]
  },
  {
   "cell_type": "markdown",
   "metadata": {},
   "source": [
    "[1] https://catalog.data.gov/dataset/restaurant-violations-yelp  \n",
    "[2] https://sweetiq.com/blog/how-important-are-health-ratings-for-a-restaurant/  \n",
    "[3] http://www.djournal.com/itawamba/news/itawamba-county/restaurant-inspections-an-important-part-of-public-safety/article_91cff466-0cc8-5761-898c-2425f92982f4.html  \n",
    "[4] https://www.menucoverdepot.com/resource-center/articles/restaurant-health-inspections/  \n",
    "[5] Public knowledge and attitudes regarding public health inspections of restaurants. Jones TF1, Grimm K. https://www.ncbi.nlm.nih.gov/pubmed/18471587  \n",
    "[6] http://www.health.state.mn.us/divs/eh/food/fs/tempreq.html"
   ]
  }
 ],
 "metadata": {
  "kernelspec": {
   "display_name": "Python 3",
   "language": "python",
   "name": "python3"
  },
  "language_info": {
   "codemirror_mode": {
    "name": "ipython",
    "version": 3
   },
   "file_extension": ".py",
   "mimetype": "text/x-python",
   "name": "python",
   "nbconvert_exporter": "python",
   "pygments_lexer": "ipython3",
   "version": "3.6.3"
  }
 },
 "nbformat": 4,
 "nbformat_minor": 2
}
